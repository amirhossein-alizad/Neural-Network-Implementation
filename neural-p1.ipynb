{
 "cells": [
  {
   "cell_type": "markdown",
   "metadata": {},
   "source": [
    "# AI CA5 Phase1\n",
    "# Amirhossein Alizad 810197546"
   ]
  },
  {
   "cell_type": "markdown",
   "metadata": {},
   "source": [
    "<strong> we are going to read the Data ( train and test ) from a fashion-mnist Dataset provided for us which every data has 784 pixel datas showing the darkness of each pixel. each row of data is a 28 * 28 picture of a product which we are going to predict the class of each product by implementing a feed forward neural network and train the network using train data and then testing it</strong>"
   ]
  },
  {
   "cell_type": "code",
   "execution_count": 1,
   "metadata": {},
   "outputs": [],
   "source": [
    "import numpy as np\n",
    "import pandas as pd\n",
    "import matplotlib.pyplot as plt\n",
    "from random import shuffle\n",
    "import seaborn as sns"
   ]
  },
  {
   "cell_type": "markdown",
   "metadata": {},
   "source": [
    "# Data Reading and PreProcessing"
   ]
  },
  {
   "cell_type": "code",
   "execution_count": 2,
   "metadata": {
    "scrolled": true
   },
   "outputs": [],
   "source": [
    "trainData = pd.read_csv(\"trainData.csv\", header=None)\n",
    "testData = pd.read_csv(\"testData.csv\", header = None)\n",
    "trainLabels = pd.read_csv(\"trainLabels.csv\", header=None)\n",
    "testLabels = pd.read_csv(\"testLabels.csv\", header=None)"
   ]
  },
  {
   "cell_type": "markdown",
   "metadata": {},
   "source": [
    "<strong> using pandas to read from files</strong>"
   ]
  },
  {
   "cell_type": "code",
   "execution_count": 3,
   "metadata": {},
   "outputs": [
    {
     "data": {
      "text/html": [
       "<div>\n",
       "<style scoped>\n",
       "    .dataframe tbody tr th:only-of-type {\n",
       "        vertical-align: middle;\n",
       "    }\n",
       "\n",
       "    .dataframe tbody tr th {\n",
       "        vertical-align: top;\n",
       "    }\n",
       "\n",
       "    .dataframe thead th {\n",
       "        text-align: right;\n",
       "    }\n",
       "</style>\n",
       "<table border=\"1\" class=\"dataframe\">\n",
       "  <thead>\n",
       "    <tr style=\"text-align: right;\">\n",
       "      <th></th>\n",
       "      <th>0</th>\n",
       "      <th>1</th>\n",
       "      <th>2</th>\n",
       "      <th>3</th>\n",
       "      <th>4</th>\n",
       "      <th>5</th>\n",
       "      <th>6</th>\n",
       "      <th>7</th>\n",
       "      <th>8</th>\n",
       "      <th>9</th>\n",
       "      <th>...</th>\n",
       "      <th>774</th>\n",
       "      <th>775</th>\n",
       "      <th>776</th>\n",
       "      <th>777</th>\n",
       "      <th>778</th>\n",
       "      <th>779</th>\n",
       "      <th>780</th>\n",
       "      <th>781</th>\n",
       "      <th>782</th>\n",
       "      <th>783</th>\n",
       "    </tr>\n",
       "  </thead>\n",
       "  <tbody>\n",
       "    <tr>\n",
       "      <th>0</th>\n",
       "      <td>0</td>\n",
       "      <td>0</td>\n",
       "      <td>0</td>\n",
       "      <td>0</td>\n",
       "      <td>0</td>\n",
       "      <td>0</td>\n",
       "      <td>0</td>\n",
       "      <td>0</td>\n",
       "      <td>0</td>\n",
       "      <td>0</td>\n",
       "      <td>...</td>\n",
       "      <td>0</td>\n",
       "      <td>0</td>\n",
       "      <td>0</td>\n",
       "      <td>0</td>\n",
       "      <td>0</td>\n",
       "      <td>0</td>\n",
       "      <td>0</td>\n",
       "      <td>0</td>\n",
       "      <td>0</td>\n",
       "      <td>0</td>\n",
       "    </tr>\n",
       "    <tr>\n",
       "      <th>1</th>\n",
       "      <td>0</td>\n",
       "      <td>0</td>\n",
       "      <td>0</td>\n",
       "      <td>0</td>\n",
       "      <td>0</td>\n",
       "      <td>1</td>\n",
       "      <td>0</td>\n",
       "      <td>0</td>\n",
       "      <td>0</td>\n",
       "      <td>0</td>\n",
       "      <td>...</td>\n",
       "      <td>119</td>\n",
       "      <td>114</td>\n",
       "      <td>130</td>\n",
       "      <td>76</td>\n",
       "      <td>0</td>\n",
       "      <td>0</td>\n",
       "      <td>0</td>\n",
       "      <td>0</td>\n",
       "      <td>0</td>\n",
       "      <td>0</td>\n",
       "    </tr>\n",
       "    <tr>\n",
       "      <th>2</th>\n",
       "      <td>0</td>\n",
       "      <td>0</td>\n",
       "      <td>0</td>\n",
       "      <td>0</td>\n",
       "      <td>0</td>\n",
       "      <td>0</td>\n",
       "      <td>0</td>\n",
       "      <td>0</td>\n",
       "      <td>0</td>\n",
       "      <td>22</td>\n",
       "      <td>...</td>\n",
       "      <td>0</td>\n",
       "      <td>0</td>\n",
       "      <td>1</td>\n",
       "      <td>0</td>\n",
       "      <td>0</td>\n",
       "      <td>0</td>\n",
       "      <td>0</td>\n",
       "      <td>0</td>\n",
       "      <td>0</td>\n",
       "      <td>0</td>\n",
       "    </tr>\n",
       "    <tr>\n",
       "      <th>3</th>\n",
       "      <td>0</td>\n",
       "      <td>0</td>\n",
       "      <td>0</td>\n",
       "      <td>0</td>\n",
       "      <td>0</td>\n",
       "      <td>0</td>\n",
       "      <td>0</td>\n",
       "      <td>0</td>\n",
       "      <td>33</td>\n",
       "      <td>96</td>\n",
       "      <td>...</td>\n",
       "      <td>0</td>\n",
       "      <td>0</td>\n",
       "      <td>0</td>\n",
       "      <td>0</td>\n",
       "      <td>0</td>\n",
       "      <td>0</td>\n",
       "      <td>0</td>\n",
       "      <td>0</td>\n",
       "      <td>0</td>\n",
       "      <td>0</td>\n",
       "    </tr>\n",
       "    <tr>\n",
       "      <th>4</th>\n",
       "      <td>0</td>\n",
       "      <td>0</td>\n",
       "      <td>0</td>\n",
       "      <td>0</td>\n",
       "      <td>0</td>\n",
       "      <td>0</td>\n",
       "      <td>0</td>\n",
       "      <td>0</td>\n",
       "      <td>0</td>\n",
       "      <td>0</td>\n",
       "      <td>...</td>\n",
       "      <td>0</td>\n",
       "      <td>0</td>\n",
       "      <td>0</td>\n",
       "      <td>0</td>\n",
       "      <td>0</td>\n",
       "      <td>0</td>\n",
       "      <td>0</td>\n",
       "      <td>0</td>\n",
       "      <td>0</td>\n",
       "      <td>0</td>\n",
       "    </tr>\n",
       "  </tbody>\n",
       "</table>\n",
       "<p>5 rows × 784 columns</p>\n",
       "</div>"
      ],
      "text/plain": [
       "   0    1    2    3    4    5    6    7    8    9    ...  774  775  776  777  \\\n",
       "0    0    0    0    0    0    0    0    0    0    0  ...    0    0    0    0   \n",
       "1    0    0    0    0    0    1    0    0    0    0  ...  119  114  130   76   \n",
       "2    0    0    0    0    0    0    0    0    0   22  ...    0    0    1    0   \n",
       "3    0    0    0    0    0    0    0    0   33   96  ...    0    0    0    0   \n",
       "4    0    0    0    0    0    0    0    0    0    0  ...    0    0    0    0   \n",
       "\n",
       "   778  779  780  781  782  783  \n",
       "0    0    0    0    0    0    0  \n",
       "1    0    0    0    0    0    0  \n",
       "2    0    0    0    0    0    0  \n",
       "3    0    0    0    0    0    0  \n",
       "4    0    0    0    0    0    0  \n",
       "\n",
       "[5 rows x 784 columns]"
      ]
     },
     "execution_count": 3,
     "metadata": {},
     "output_type": "execute_result"
    }
   ],
   "source": [
    "trainData.head()"
   ]
  },
  {
   "cell_type": "code",
   "execution_count": 4,
   "metadata": {},
   "outputs": [
    {
     "data": {
      "text/html": [
       "<div>\n",
       "<style scoped>\n",
       "    .dataframe tbody tr th:only-of-type {\n",
       "        vertical-align: middle;\n",
       "    }\n",
       "\n",
       "    .dataframe tbody tr th {\n",
       "        vertical-align: top;\n",
       "    }\n",
       "\n",
       "    .dataframe thead th {\n",
       "        text-align: right;\n",
       "    }\n",
       "</style>\n",
       "<table border=\"1\" class=\"dataframe\">\n",
       "  <thead>\n",
       "    <tr style=\"text-align: right;\">\n",
       "      <th></th>\n",
       "      <th>0</th>\n",
       "      <th>1</th>\n",
       "      <th>2</th>\n",
       "      <th>3</th>\n",
       "      <th>4</th>\n",
       "      <th>5</th>\n",
       "      <th>6</th>\n",
       "      <th>7</th>\n",
       "      <th>8</th>\n",
       "      <th>9</th>\n",
       "      <th>...</th>\n",
       "      <th>774</th>\n",
       "      <th>775</th>\n",
       "      <th>776</th>\n",
       "      <th>777</th>\n",
       "      <th>778</th>\n",
       "      <th>779</th>\n",
       "      <th>780</th>\n",
       "      <th>781</th>\n",
       "      <th>782</th>\n",
       "      <th>783</th>\n",
       "    </tr>\n",
       "  </thead>\n",
       "  <tbody>\n",
       "    <tr>\n",
       "      <th>0</th>\n",
       "      <td>0</td>\n",
       "      <td>0</td>\n",
       "      <td>0</td>\n",
       "      <td>0</td>\n",
       "      <td>0</td>\n",
       "      <td>0</td>\n",
       "      <td>0</td>\n",
       "      <td>0</td>\n",
       "      <td>0</td>\n",
       "      <td>0</td>\n",
       "      <td>...</td>\n",
       "      <td>0</td>\n",
       "      <td>0</td>\n",
       "      <td>0</td>\n",
       "      <td>0</td>\n",
       "      <td>0</td>\n",
       "      <td>0</td>\n",
       "      <td>0</td>\n",
       "      <td>0</td>\n",
       "      <td>0</td>\n",
       "      <td>0</td>\n",
       "    </tr>\n",
       "    <tr>\n",
       "      <th>1</th>\n",
       "      <td>0</td>\n",
       "      <td>0</td>\n",
       "      <td>0</td>\n",
       "      <td>0</td>\n",
       "      <td>0</td>\n",
       "      <td>0</td>\n",
       "      <td>0</td>\n",
       "      <td>0</td>\n",
       "      <td>0</td>\n",
       "      <td>0</td>\n",
       "      <td>...</td>\n",
       "      <td>2</td>\n",
       "      <td>3</td>\n",
       "      <td>0</td>\n",
       "      <td>3</td>\n",
       "      <td>174</td>\n",
       "      <td>189</td>\n",
       "      <td>67</td>\n",
       "      <td>0</td>\n",
       "      <td>0</td>\n",
       "      <td>0</td>\n",
       "    </tr>\n",
       "    <tr>\n",
       "      <th>2</th>\n",
       "      <td>0</td>\n",
       "      <td>0</td>\n",
       "      <td>0</td>\n",
       "      <td>0</td>\n",
       "      <td>0</td>\n",
       "      <td>0</td>\n",
       "      <td>0</td>\n",
       "      <td>0</td>\n",
       "      <td>1</td>\n",
       "      <td>0</td>\n",
       "      <td>...</td>\n",
       "      <td>164</td>\n",
       "      <td>58</td>\n",
       "      <td>0</td>\n",
       "      <td>0</td>\n",
       "      <td>0</td>\n",
       "      <td>0</td>\n",
       "      <td>0</td>\n",
       "      <td>0</td>\n",
       "      <td>0</td>\n",
       "      <td>0</td>\n",
       "    </tr>\n",
       "    <tr>\n",
       "      <th>3</th>\n",
       "      <td>0</td>\n",
       "      <td>0</td>\n",
       "      <td>0</td>\n",
       "      <td>0</td>\n",
       "      <td>0</td>\n",
       "      <td>0</td>\n",
       "      <td>0</td>\n",
       "      <td>0</td>\n",
       "      <td>0</td>\n",
       "      <td>21</td>\n",
       "      <td>...</td>\n",
       "      <td>1</td>\n",
       "      <td>0</td>\n",
       "      <td>0</td>\n",
       "      <td>0</td>\n",
       "      <td>0</td>\n",
       "      <td>0</td>\n",
       "      <td>0</td>\n",
       "      <td>0</td>\n",
       "      <td>0</td>\n",
       "      <td>0</td>\n",
       "    </tr>\n",
       "    <tr>\n",
       "      <th>4</th>\n",
       "      <td>0</td>\n",
       "      <td>0</td>\n",
       "      <td>0</td>\n",
       "      <td>2</td>\n",
       "      <td>0</td>\n",
       "      <td>1</td>\n",
       "      <td>1</td>\n",
       "      <td>0</td>\n",
       "      <td>0</td>\n",
       "      <td>0</td>\n",
       "      <td>...</td>\n",
       "      <td>71</td>\n",
       "      <td>12</td>\n",
       "      <td>0</td>\n",
       "      <td>0</td>\n",
       "      <td>0</td>\n",
       "      <td>0</td>\n",
       "      <td>0</td>\n",
       "      <td>0</td>\n",
       "      <td>0</td>\n",
       "      <td>0</td>\n",
       "    </tr>\n",
       "  </tbody>\n",
       "</table>\n",
       "<p>5 rows × 784 columns</p>\n",
       "</div>"
      ],
      "text/plain": [
       "   0    1    2    3    4    5    6    7    8    9    ...  774  775  776  777  \\\n",
       "0    0    0    0    0    0    0    0    0    0    0  ...    0    0    0    0   \n",
       "1    0    0    0    0    0    0    0    0    0    0  ...    2    3    0    3   \n",
       "2    0    0    0    0    0    0    0    0    1    0  ...  164   58    0    0   \n",
       "3    0    0    0    0    0    0    0    0    0   21  ...    1    0    0    0   \n",
       "4    0    0    0    2    0    1    1    0    0    0  ...   71   12    0    0   \n",
       "\n",
       "   778  779  780  781  782  783  \n",
       "0    0    0    0    0    0    0  \n",
       "1  174  189   67    0    0    0  \n",
       "2    0    0    0    0    0    0  \n",
       "3    0    0    0    0    0    0  \n",
       "4    0    0    0    0    0    0  \n",
       "\n",
       "[5 rows x 784 columns]"
      ]
     },
     "execution_count": 4,
     "metadata": {},
     "output_type": "execute_result"
    }
   ],
   "source": [
    "testData.head()"
   ]
  },
  {
   "cell_type": "code",
   "execution_count": 5,
   "metadata": {},
   "outputs": [],
   "source": [
    "len1 = len(trainData.to_numpy())\n",
    "lst = []\n",
    "for i in range(10):\n",
    "    for j in range(len1):\n",
    "        if(trainLabels.to_numpy()[j] == i):\n",
    "            with np.printoptions(precision=4, suppress=True, linewidth=100):\n",
    "                lst.append(trainData.to_numpy()[j])\n",
    "            break\n",
    "            "
   ]
  },
  {
   "cell_type": "markdown",
   "metadata": {},
   "source": [
    "<strong> using pd.to_numpy() to convert data frame into numpy array or matrix and then printing the first element of each class</strong>"
   ]
  },
  {
   "cell_type": "code",
   "execution_count": 6,
   "metadata": {
    "scrolled": false
   },
   "outputs": [
    {
     "data": {
      "image/png": "[encoded data removed]",
      "text/plain": [
       "<Figure size 144x144 with 1 Axes>"
      ]
     },
     "metadata": {
      "needs_background": "light"
     },
     "output_type": "display_data"
    },
    {
     "data": {
      "image/png": "[encoded data removed]",
      "text/plain": [
       "<Figure size 144x144 with 1 Axes>"
      ]
     },
     "metadata": {
      "needs_background": "light"
     },
     "output_type": "display_data"
    },
    {
     "data": {
      "image/png": "[encoded data removed]",
      "text/plain": [
       "<Figure size 144x144 with 1 Axes>"
      ]
     },
     "metadata": {
      "needs_background": "light"
     },
     "output_type": "display_data"
    },
    {
     "data": {
      "image/png": "[encoded data removed]",
      "text/plain": [
       "<Figure size 144x144 with 1 Axes>"
      ]
     },
     "metadata": {
      "needs_background": "light"
     },
     "output_type": "display_data"
    },
    {
     "data": {
      "image/png": "[encoded data removed]",
      "text/plain": [
       "<Figure size 144x144 with 1 Axes>"
      ]
     },
     "metadata": {
      "needs_background": "light"
     },
     "output_type": "display_data"
    },
    {
     "data": {
      "image/png": "[encoded data removed]",
      "text/plain": [
       "<Figure size 144x144 with 1 Axes>"
      ]
     },
     "metadata": {
      "needs_background": "light"
     },
     "output_type": "display_data"
    },
    {
     "data": {
      "image/png": "[encoded data removed]",
      "text/plain": [
       "<Figure size 144x144 with 1 Axes>"
      ]
     },
     "metadata": {
      "needs_background": "light"
     },
     "output_type": "display_data"
    },
    {
     "data": {
      "image/png": "[encoded data removed]",
      "text/plain": [
       "<Figure size 144x144 with 1 Axes>"
      ]
     },
     "metadata": {
      "needs_background": "light"
     },
     "output_type": "display_data"
    },
    {
     "data": {
      "image/png": "[encoded data removed]",
      "text/plain": [
       "<Figure size 144x144 with 1 Axes>"
      ]
     },
     "metadata": {
      "needs_background": "light"
     },
     "output_type": "display_data"
    },
    {
     "data": {
      "image/png": "[encoded data removed]",
      "text/plain": [
       "<Figure size 144x144 with 1 Axes>"
      ]
     },
     "metadata": {
      "needs_background": "light"
     },
     "output_type": "display_data"
    },
    {
     "data": {
      "image/png": "[encoded data removed]",
      "text/plain": [
       "<Figure size 144x144 with 1 Axes>"
      ]
     },
     "metadata": {
      "needs_background": "light"
     },
     "output_type": "display_data"
    },
    {
     "data": {
      "image/png": "[encoded data removed]",
      "text/plain": [
       "<Figure size 144x144 with 1 Axes>"
      ]
     },
     "metadata": {
      "needs_background": "light"
     },
     "output_type": "display_data"
    },
    {
     "data": {
      "image/png": "[encoded data removed]",
      "text/plain": [
       "<Figure size 144x144 with 1 Axes>"
      ]
     },
     "metadata": {
      "needs_background": "light"
     },
     "output_type": "display_data"
    },
    {
     "data": {
      "image/png": "[encoded data removed]",
      "text/plain": [
       "<Figure size 144x144 with 1 Axes>"
      ]
     },
     "metadata": {
      "needs_background": "light"
     },
     "output_type": "display_data"
    },
    {
     "data": {
      "image/png": "[encoded data removed]",
      "text/plain": [
       "<Figure size 144x144 with 1 Axes>"
      ]
     },
     "metadata": {
      "needs_background": "light"
     },
     "output_type": "display_data"
    },
    {
     "data": {
      "image/png": "[encoded data removed]",
      "text/plain": [
       "<Figure size 144x144 with 1 Axes>"
      ]
     },
     "metadata": {
      "needs_background": "light"
     },
     "output_type": "display_data"
    },
    {
     "data": {
      "image/png": "[encoded data removed]",
      "text/plain": [
       "<Figure size 144x144 with 1 Axes>"
      ]
     },
     "metadata": {
      "needs_background": "light"
     },
     "output_type": "display_data"
    },
    {
     "data": {
      "image/png": "[encoded data removed]",
      "text/plain": [
       "<Figure size 144x144 with 1 Axes>"
      ]
     },
     "metadata": {
      "needs_background": "light"
     },
     "output_type": "display_data"
    },
    {
     "data": {
      "image/png": "[encoded data removed]",
      "text/plain": [
       "<Figure size 144x144 with 1 Axes>"
      ]
     },
     "metadata": {
      "needs_background": "light"
     },
     "output_type": "display_data"
    },
    {
     "data": {
      "image/png": "[encoded data removed]",
      "text/plain": [
       "<Figure size 144x144 with 1 Axes>"
      ]
     },
     "metadata": {
      "needs_background": "light"
     },
     "output_type": "display_data"
    },
    {
     "data": {
      "image/png": "[encoded data removed]",
      "text/plain": [
       "<Figure size 144x144 with 1 Axes>"
      ]
     },
     "metadata": {
      "needs_background": "light"
     },
     "output_type": "display_data"
    },
    {
     "data": {
      "image/png": "[encoded data removed]",
      "text/plain": [
       "<Figure size 144x144 with 1 Axes>"
      ]
     },
     "metadata": {
      "needs_background": "light"
     },
     "output_type": "display_data"
    },
    {
     "data": {
      "image/png": "[encoded data removed]",
      "text/plain": [
       "<Figure size 144x144 with 1 Axes>"
      ]
     },
     "metadata": {
      "needs_background": "light"
     },
     "output_type": "display_data"
    },
    {
     "data": {
      "image/png": "[encoded data removed]",
      "text/plain": [
       "<Figure size 144x144 with 1 Axes>"
      ]
     },
     "metadata": {
      "needs_background": "light"
     },
     "output_type": "display_data"
    },
    {
     "data": {
      "image/png": "[encoded data removed]",
      "text/plain": [
       "<Figure size 144x144 with 1 Axes>"
      ]
     },
     "metadata": {
      "needs_background": "light"
     },
     "output_type": "display_data"
    },
    {
     "data": {
      "image/png": "[encoded data removed]",
      "text/plain": [
       "<Figure size 144x144 with 1 Axes>"
      ]
     },
     "metadata": {
      "needs_background": "light"
     },
     "output_type": "display_data"
    },
    {
     "data": {
      "image/png": "[encoded data removed]",
      "text/plain": [
       "<Figure size 144x144 with 1 Axes>"
      ]
     },
     "metadata": {
      "needs_background": "light"
     },
     "output_type": "display_data"
    },
    {
     "data": {
      "image/png": "[encoded data removed]",
      "text/plain": [
       "<Figure size 144x144 with 1 Axes>"
      ]
     },
     "metadata": {
      "needs_background": "light"
     },
     "output_type": "display_data"
    },
    {
     "data": {
      "image/png": "[encoded data removed]",
      "text/plain": [
       "<Figure size 144x144 with 1 Axes>"
      ]
     },
     "metadata": {
      "needs_background": "light"
     },
     "output_type": "display_data"
    },
    {
     "data": {
      "image/png": "[encoded data removed]",
      "text/plain": [
       "<Figure size 144x144 with 1 Axes>"
      ]
     },
     "metadata": {
      "needs_background": "light"
     },
     "output_type": "display_data"
    }
   ],
   "source": [
    "for i in range(10):\n",
    "    for j in range(3):\n",
    "        plt.figure(figsize=(2,2))\n",
    "        image = np.array(trainData.iloc[np.where(trainLabels[0] == i)[0][j]], dtype = float)\n",
    "        plt.imshow(image.reshape((28, 28)), cmap = 'gray')\n",
    "        plt.xlabel('Class: '+str(i))\n",
    "        plt.show()"
   ]
  },
  {
   "cell_type": "code",
   "execution_count": 7,
   "metadata": {},
   "outputs": [
    {
     "data": {
      "text/plain": [
       "{0: 6000,\n",
       " 1: 6000,\n",
       " 2: 6000,\n",
       " 3: 6000,\n",
       " 4: 6000,\n",
       " 5: 6000,\n",
       " 6: 6000,\n",
       " 7: 6000,\n",
       " 8: 6000,\n",
       " 9: 6000}"
      ]
     },
     "execution_count": 7,
     "metadata": {},
     "output_type": "execute_result"
    }
   ],
   "source": [
    "unique, counts = np.unique(trainLabels.to_numpy(), return_counts=True)\n",
    "train_dict = dict(zip(unique, counts))\n",
    "unique, counts = np.unique(testLabels.to_numpy(), return_counts=True)\n",
    "test_dict = dict(zip(unique, counts))\n",
    "train_dict"
   ]
  },
  {
   "cell_type": "code",
   "execution_count": 8,
   "metadata": {},
   "outputs": [
    {
     "data": {
      "text/plain": [
       "{0: 1000,\n",
       " 1: 1000,\n",
       " 2: 1000,\n",
       " 3: 1000,\n",
       " 4: 1000,\n",
       " 5: 1000,\n",
       " 6: 1000,\n",
       " 7: 1000,\n",
       " 8: 1000,\n",
       " 9: 1000}"
      ]
     },
     "execution_count": 8,
     "metadata": {},
     "output_type": "execute_result"
    }
   ],
   "source": [
    "test_dict"
   ]
  },
  {
   "cell_type": "code",
   "execution_count": 9,
   "metadata": {},
   "outputs": [
    {
     "data": {
      "text/plain": [
       "<AxesSubplot:xlabel='Value', ylabel='Count'>"
      ]
     },
     "execution_count": 9,
     "metadata": {},
     "output_type": "execute_result"
    },
    {
     "data": {
      "image/png": "[encoded data removed]",
      "text/plain": [
       "<Figure size 432x288 with 1 Axes>"
      ]
     },
     "metadata": {
      "needs_background": "light"
     },
     "output_type": "display_data"
    }
   ],
   "source": [
    "trainLabels.value_counts().plot(kind = 'bar', xlabel = 'Value', ylabel = 'Count', color = 'skyblue')"
   ]
  },
  {
   "cell_type": "code",
   "execution_count": 10,
   "metadata": {},
   "outputs": [
    {
     "data": {
      "text/plain": [
       "<AxesSubplot:xlabel='Value', ylabel='Count'>"
      ]
     },
     "execution_count": 10,
     "metadata": {},
     "output_type": "execute_result"
    },
    {
     "data": {
      "image/png": "[encoded data removed]",
      "text/plain": [
       "<Figure size 432x288 with 1 Axes>"
      ]
     },
     "metadata": {
      "needs_background": "light"
     },
     "output_type": "display_data"
    }
   ],
   "source": [
    "testLabels.value_counts().plot(kind = 'bar', xlabel = 'Value', ylabel = 'Count', color = 'orange')"
   ]
  },
  {
   "cell_type": "code",
   "execution_count": 11,
   "metadata": {},
   "outputs": [],
   "source": [
    "trainLabels = np.genfromtxt('trainLabels.csv', delimiter=',')\n",
    "testLabels = np.genfromtxt('testLabels.csv', delimiter=',')\n",
    "trainData = trainData.to_numpy()\n",
    "testData = testData.to_numpy()\n",
    "trainData = trainData / 255\n",
    "testData = testData / 255"
   ]
  },
  {
   "cell_type": "markdown",
   "metadata": {},
   "source": [
    "<strong> first we convert the data frame to matrix and then we divide each element by 255 to normalize the data<br>\n",
    "Among the best practices for training a Neural Network is to normalize your data to obtain a mean close to 0. Normalizing the data generally speeds up learning and leads to faster convergence.</strong>"
   ]
  },
  {
   "cell_type": "markdown",
   "metadata": {},
   "source": [
    "# Dataloader"
   ]
  },
  {
   "cell_type": "code",
   "execution_count": 12,
   "metadata": {},
   "outputs": [],
   "source": [
    "class Dataloader:\n",
    "    \n",
    "    def __init__(self, data, labels, n_classes, batch_size=None, shuffle=False):\n",
    "        assert len(data)==len(labels)\n",
    "        self.__n_classes = n_classes\n",
    "        self.__batch_size = batch_size\n",
    "        self.__shuffle = shuffle\n",
    "        self.__data = data\n",
    "        self.__onehot_labels = self.__onehot(labels, self.__n_classes)\n",
    "    \n",
    "    def __onehot(self, labels, n_classes):\n",
    "        onehot_vectors = []\n",
    "        for val in labels:\n",
    "            row = [1 if i == val else 0 for i in range(n_classes)]\n",
    "            onehot_vectors.append(row)\n",
    "        onehot_vectors = np.asmatrix(onehot_vectors, dtype=float)\n",
    "        return onehot_vectors\n",
    "    \n",
    "    def __shuffle_dataset(self):\n",
    "        p = np.random.permutation(len(self.__data))\n",
    "        self.__data = self.__data[p]\n",
    "        self.__onehot_labels = self.__onehot_labels[p]\n",
    "        \n",
    "    def __iter__(self):\n",
    "        \n",
    "        if self.__shuffle:\n",
    "            self.__shuffle_dataset()\n",
    "            \n",
    "        if self.__batch_size==None:\n",
    "            yield (np.matrix(self.__data), np.matrix(self.__onehot_labels))\n",
    "            return\n",
    "            \n",
    "        for idx in range(0, len(self.__data), self.__batch_size):\n",
    "            yield (np.matrix(self.__data[idx:idx+self.__batch_size]), \n",
    "                   np.matrix(self.__onehot_labels[idx:idx+self.__batch_size]))"
   ]
  },
  {
   "cell_type": "code",
   "execution_count": 13,
   "metadata": {},
   "outputs": [],
   "source": [
    "def relu_func(x):\n",
    "    return max(0, x)\n",
    "def relu_derivative_func(x):\n",
    "    if(x > 0):\n",
    "        return 1\n",
    "    return 0\n",
    "\n",
    "def sigmoid_func(x):\n",
    "    return 1/(1 + np.exp(-x))\n",
    "def sigmoid_derivative_func(x):\n",
    "    y = sigmoid_func(x)\n",
    "    return y * (1 - y)\n"
   ]
  },
  {
   "cell_type": "markdown",
   "metadata": {},
   "source": [
    "<strong> sigmoid and relu function prototypes</strong>"
   ]
  },
  {
   "cell_type": "markdown",
   "metadata": {},
   "source": [
    "# Activation Functions"
   ]
  },
  {
   "cell_type": "code",
   "execution_count": 14,
   "metadata": {},
   "outputs": [],
   "source": [
    "class Identical:\n",
    "    \n",
    "    def __init__(self): pass\n",
    "    \n",
    "    def __val(self, matrix):\n",
    "        identical_value = np.matrix(matrix, dtype=float)\n",
    "        return identical_value\n",
    "\n",
    "    def derivative(self, matrix):\n",
    "        temp = np.matrix(matrix, dtype=float)\n",
    "        identical_derivative = np.matrix(np.full(np.shape(temp), 1.))\n",
    "        return identical_derivative\n",
    "    \n",
    "    def __call__(self, matrix):\n",
    "        return self.__val(matrix)\n",
    "    \n",
    "\n",
    "class Relu:\n",
    "    \n",
    "    def __init__(self): pass\n",
    "    \n",
    "\n",
    "    def __relu(self, matrix):\n",
    "        temp = np.matrix(matrix, dtype=float)\n",
    "        relu_value = np.maximum(0, temp)\n",
    "        return relu_value\n",
    "\n",
    "    def derivative(self, matrix):\n",
    "        relu_derivative = matrix\n",
    "        relu_derivative[matrix<=0] = 0\n",
    "        relu_derivative[matrix>0] = 1\n",
    "        return relu_derivative\n",
    "    \n",
    "    def __call__(self, matrix):\n",
    "        return self.__relu(matrix)\n",
    "\n",
    "class LeakyRelu:\n",
    "    \n",
    "    def __init__(self, negative_slope=0.01):\n",
    "        self.negative_slope = negative_slope\n",
    "    \n",
    "    def __val(self, matrix):\n",
    "        matrix = np.where(matrix > 0, matrix, matrix * self.negative_slope)  \n",
    "        leacky_relu_value = np.matrix(matrix, dtype=float)\n",
    "        return leacky_relu_value\n",
    "\n",
    "    def derivative(self, matrix):\n",
    "        leacky_relu_derivative = np.matrix(matrix, dtype = float)\n",
    "        leacky_relu_derivative[matrix<=0] = self.negative_slope\n",
    "        leacky_relu_derivative[matrix>0] = 1\n",
    "        return leacky_relu_derivative\n",
    "    \n",
    "    def __call__(self, matrix):\n",
    "        return self.__val(matrix)\n",
    "\n",
    "    \n",
    "class Sigmoid:\n",
    "    \n",
    "    def __init__(self): pass\n",
    "\n",
    "    def __val(self, matrix):\n",
    "        sigmoid_value = np.matrix(1/(1 + np.exp(-matrix)), dtype = float)\n",
    "        return sigmoid_value\n",
    "\n",
    "    def derivative(self, matrix):\n",
    "        val = self.__call__(matrix)\n",
    "        sigmoid_derivative = np.multiply(val, np.matrix(1 - val))\n",
    "        return sigmoid_derivative\n",
    "    \n",
    "    def __call__(self, matrix):\n",
    "        return self.__val(matrix)\n",
    "\n",
    "\n",
    "class Softmax:\n",
    "    \n",
    "    def __init__(self): pass\n",
    "\n",
    "    def __val(self, matrix):\n",
    "        matrix -= matrix.max(1)\n",
    "        softmax_value = np.matrix(np.exp(matrix)/np.exp(matrix).sum(1), dtype=float)\n",
    "        return softmax_value\n",
    "\n",
    "    def derivative(self, matrix):\n",
    "        softmax = self.__val(matrix)\n",
    "        s = softmax\n",
    "        return np.diagflat(s) - np.dot(s, s.T)\n",
    "    \n",
    "    def __call__(self, matrix):\n",
    "        return self.__val(matrix)\n",
    "\n",
    "class Tanh:\n",
    "    def __init__(self): pass\n",
    "\n",
    "    def __val(self, matrix):\n",
    "        temp = np.matrix(matrix, dtype=float)\n",
    "        tanh_value = np.tanh(temp)\n",
    "        return tanh_value\n",
    "\n",
    "    def derivative(self, matrix):\n",
    "        tanh_value = self.__val(matrix)\n",
    "        tanh_derivative = 1 - np.multiply(tanh_value, tanh_value)\n",
    "        return tanh_derivative\n",
    "    \n",
    "    def __call__(self, matrix):\n",
    "        return self.__val(matrix)"
   ]
  },
  {
   "cell_type": "markdown",
   "metadata": {},
   "source": [
    "<strong>Activation functions are really important for an Artificial Neural Network to learn and make sense of something really complicated and Non-linear complex functional mappings between the inputs and response/output variable. They introduce non-linear properties to the network. Their main purpose is to convert an input signal of a node in an Artificial Neural Network to an output signal. That output signal is used as an input in the next layer in the stack.</strong>"
   ]
  },
  {
   "cell_type": "markdown",
   "metadata": {},
   "source": [
    "# Loss Function"
   ]
  },
  {
   "cell_type": "code",
   "execution_count": 15,
   "metadata": {},
   "outputs": [],
   "source": [
    "class CrossEntropy: #(with softmax)\n",
    "    \n",
    "    def __init__(self): pass\n",
    "\n",
    "    def __val(self, true_val, expected_val):\n",
    "        assert np.shape(true_val)==np.shape(expected_val)\n",
    "        p = Softmax()(true_val)\n",
    "        cross_entropy_value = -np.multiply(expected_val, np.ma.log(p)).sum(1)\n",
    "        return cross_entropy_value\n",
    "        \n",
    "    def derivative(self, true_val, expected_val):\n",
    "        assert np.shape(true_val)==np.shape(expected_val)\n",
    "        p = Softmax()(true_val)\n",
    "        cross_entropy_derivative = p - expected_val\n",
    "        return cross_entropy_derivative\n",
    "    \n",
    "    def __call__(self, true_val, expected_val):\n",
    "        return self.__val(true_val, expected_val)"
   ]
  },
  {
   "cell_type": "markdown",
   "metadata": {},
   "source": [
    "# Layer"
   ]
  },
  {
   "cell_type": "code",
   "execution_count": 16,
   "metadata": {},
   "outputs": [],
   "source": [
    "\n",
    "class Layer:\n",
    "\n",
    "    DEFAULT_LOW, DEFAULT_HIGH, DEFAULT_MEAN, DEFAULT_VAR = 0, 0.05, 0., 1.\n",
    "  \n",
    "    def __init__(self, input_size, output_size, \n",
    "                 activation=Identical(), initial_weight='uniform', **initializing_parameters):\n",
    "        \n",
    "        self.__weight_initializer_dict = {'uniform':self.__uniform_weight, 'normal':self.__normal_weight}\n",
    "        \n",
    "        assert type(initial_weight)==str, 'Undefined activation function!'\n",
    "        assert initial_weight in self.__weight_initializer_dict, 'Undefined weight initialization function!'\n",
    "                \n",
    "        self.__n_neurons = output_size\n",
    "        weight_initializer = self.__weight_initializer_dict[initial_weight]\n",
    "        self.__weight = weight_initializer(input_size, self.__n_neurons, **initializing_parameters)\n",
    "        self.__bias = weight_initializer(1, self.__n_neurons, **initializing_parameters)\n",
    "        self.__activation = activation\n",
    "        \n",
    "        self.__last_input = None\n",
    "        self.__last_activation_input = None\n",
    "        self.__last_activation_output = None\n",
    "        self.__last_activation_derivative = None\n",
    "        \n",
    "    def forward(self, layer_input):\n",
    "        assert np.ndim(layer_input)==2\n",
    "        assert np.size(self.__weight,0) == np.size(layer_input,1)\n",
    "        self.__last_input = layer_input\n",
    "        self.__last_activation_input = np.matmul(layer_input, self.__weight) + self.__bias\n",
    "        self.__last_activation_output = self.__activation(self.__last_activation_input)\n",
    "        self.__last_activation_derivative = self.__activation.derivative(self.__last_activation_input)\n",
    "        return self.__last_activation_output\n",
    "    \n",
    "    def update_weights(self, backprop_tensor, lr):\n",
    "        assert np.ndim(backprop_tensor)==2\n",
    "        assert np.size(backprop_tensor,0) == np.size(self.__last_activation_derivative,0)\n",
    "        assert np.size(backprop_tensor,1) == self.__n_neurons\n",
    "        tp = self.__last_input.transpose()\n",
    "        e_y = np.multiply(backprop_tensor,self.__last_activation_derivative)\n",
    "        e_w = np.matmul(tp,e_y)\n",
    "        backprop_tensor = np.matmul(e_y,self.__weight.transpose())\n",
    "        self.__weight -= e_w*lr\n",
    "        bu = np.matmul(np.matrix(np.tile(1, (1, e_y.shape[0]))),e_y)\n",
    "        self.__bias -= bu*lr\n",
    "        return backprop_tensor\n",
    "    \n",
    "    def get_layer_output(self):\n",
    "        return self.__last_activation_output\n",
    "    \n",
    "    def __uniform_weight(self, dim1, dim2, **initializing_parameters):\n",
    "        low, high = self.DEFAULT_LOW, self.DEFAULT_HIGH\n",
    "        if 'low' in initializing_parameters.keys(): low = initializing_parameters['low']\n",
    "        if 'high' in initializing_parameters.keys(): high = initializing_parameters['high']\n",
    "        weights = np.random.uniform(low, high, size=(dim1, dim2))\n",
    "        weights = np.matrix(weights, dtype = float)\n",
    "        return weights\n",
    "\n",
    "    def __normal_weight(self, dim1, dim2, **initializing_parameters):\n",
    "        mean, var = self.DEFAULT_MEAN, self.DEFAULT_VAR\n",
    "        if 'mean' in initializing_parameters.keys(): mean = initializing_parameters['mean']\n",
    "        if 'var' in initializing_parameters.keys(): var = initializing_parameters['var']\n",
    "        weights = np.random.normal(mean, np.sqrt(var), size=(dim1, dim2))\n",
    "        weights = np.matrix(weights, dtype = float)\n",
    "        return weights\n",
    "    \n",
    "    @property\n",
    "    def n_neurons(self): return self.__n_neurons\n",
    "    \n",
    "    @property\n",
    "    def weight(self): return self.__weight\n",
    "    \n",
    "    @property\n",
    "    def bias(self): return self.__bias\n",
    "    \n",
    "    @property\n",
    "    def activation(self): return self.__activation"
   ]
  },
  {
   "cell_type": "markdown",
   "metadata": {},
   "source": [
    "# Feed Forward Neural Network"
   ]
  },
  {
   "cell_type": "code",
   "execution_count": 17,
   "metadata": {},
   "outputs": [],
   "source": [
    "class FeedForwardNN:\n",
    "    \n",
    "    def __init__(self, input_shape):\n",
    "        \n",
    "        self.__input_shape = input_shape\n",
    "        self.__output_shape = None\n",
    "        \n",
    "        self.__layers_list = []\n",
    "        \n",
    "        self.__lr = None\n",
    "        self.__loss = None\n",
    "        \n",
    "        self.__train_list =[]\n",
    "        self.__test_list = []\n",
    "    \n",
    "    def get_train_list(self):\n",
    "        return self.__train_list\n",
    "    \n",
    "    def get_test_list(self):\n",
    "        return self.__test_list\n",
    "    \n",
    "    def add_layer(self, n_neurons, activation=Relu(), initial_weight='uniform', **initializing_parameters):\n",
    "         \n",
    "        assert type(n_neurons)==int, \"Invalid number of neurons for the layer!\"\n",
    "        assert n_neurons>0, \"Invalid number of neurons for the layer!\"\n",
    "        \n",
    "        n_prev_neurons = self.__input_shape if len(self.__layers_list)==0 else self.__layers_list[-1].n_neurons\n",
    "        new_layer = Layer(n_prev_neurons, n_neurons, activation, initial_weight, **initializing_parameters)\n",
    "        self.__layers_list.append(new_layer)\n",
    "        self.__output_shape = self.__layers_list[-1].n_neurons \n",
    "      \n",
    "    \n",
    "    def set_training_param(self, loss=CrossEntropy(), lr=1e-3):\n",
    "        assert self.__layers_list, \"Uncomplete model!\"\n",
    "        self.__loss = loss\n",
    "        self.__lr = lr\n",
    "    \n",
    "    \n",
    "    def forward(self, network_input):\n",
    "        assert type(self.__output_shape) != None, \"Model is not compiled!\"\n",
    "        network_output = network_input\n",
    "        for i in self.__layers_list:\n",
    "            network_output = i.forward(network_output)\n",
    "        return network_output\n",
    "    \n",
    "    \n",
    "    def fit(self, epochs, trainloader, testloader=None, print_results=True):\n",
    "        \n",
    "        assert type(self.__output_shape) != None, \"Model is not compiled!\"\n",
    "        assert type(self.__lr) != None and type(self.__loss) != None, \"Training paramenters are not set!\"\n",
    "\n",
    "        log = {\"train_accuracy\":[], \"train_loss\":[], \"test_accuracy\":[], \"test_loss\":[]}\n",
    "        \n",
    "        for epoch in range(1, epochs+1):\n",
    "            \n",
    "            if print_results: \n",
    "                print('Epoch {}:'.format(epoch)) \n",
    "            self.__train_list =[]\n",
    "            self.__test_list = []\n",
    "            average_accuracy, average_loss = self.__train(trainloader)\n",
    "            log['train_accuracy'].append(average_accuracy)\n",
    "            log['train_loss'].append(average_loss)\n",
    "            if print_results:\n",
    "                print('\\tTrain: Average Accuracy: {}\\tAverage Loss: {}'.format(average_accuracy, average_loss))\n",
    "            \n",
    "            if type(testloader) != type(None):\n",
    "                average_accuracy, average_loss = self.__test(testloader)\n",
    "                log['test_accuracy'].append(average_accuracy)\n",
    "                log['test_loss'].append(average_loss)\n",
    "                if print_results:\n",
    "                    print('\\tTest: Average Accuracy: {}\\tAverage Loss: {}'.format(average_accuracy, average_loss))\n",
    "                    \n",
    "        return log\n",
    "    \n",
    "    \n",
    "    def __train(self, trainloader):\n",
    "        bach_accuracies, batch_losses = [], []\n",
    "        for x_train, y_train in trainloader:\n",
    "            batch_accuracy, batch_loss = self.__train_on_batch(x_train, y_train)\n",
    "            bach_accuracies.append(batch_accuracy)\n",
    "            batch_losses.append(batch_loss)\n",
    "        return np.mean(bach_accuracies), np.mean(batch_losses)\n",
    "    \n",
    "    \n",
    "    def __test(self, testloader):\n",
    "        bach_accuracies, batch_losses = [], []\n",
    "        for x_test, y_test in testloader:\n",
    "            batch_accuracy, batch_loss = self.__test_on_batch(x_test, y_test)\n",
    "            bach_accuracies.append(batch_accuracy)\n",
    "            batch_losses.append(batch_loss)\n",
    "        return np.mean(bach_accuracies), np.mean(batch_losses)\n",
    "\n",
    "    \n",
    "    def __train_on_batch(self, x_batch, y_batch):\n",
    "        out = self.forward(x_batch)\n",
    "        self.__train_list.append((y_batch, self.__layers_list[-2].get_layer_output()))\n",
    "        return (self.__compute_accuracy(out,y_batch), self.__update_weights(out, y_batch))    \n",
    "        \n",
    "    def __test_on_batch(self, x_batch, y_batch):\n",
    "        out = self.forward(x_batch)\n",
    "        batch_accuracy = self.__compute_accuracy(out,y_batch)\n",
    "        cross_entropy = CrossEntropy()\n",
    "        batch_loss = cross_entropy(out, y_batch)\n",
    "        batch_average_loss = np.sum(batch_loss)/len(out)\n",
    "        self.__test_list.append((y_batch, self.__layers_list[-2].get_layer_output()))\n",
    "        return (batch_accuracy, batch_average_loss)\n",
    "    \n",
    "    def __get_labels(self, outputs):\n",
    "        labels = outputs.argmax(axis=1)\n",
    "        return labels\n",
    "    \n",
    "    def __compute_accuracy(self, output, expected_output):\n",
    "        output = np.array(output)\n",
    "        result1 = np.argmax(output, axis=1)\n",
    "        expected_output = np.array(expected_output)\n",
    "        result2 = np.argmax(expected_output, axis=1)\n",
    "        true = np.sum(result1 == result2)\n",
    "        accuracy = true/len(result1)*100\n",
    "        return accuracy\n",
    "    \n",
    "    \n",
    "    def __update_weights(self, output, y_batch):\n",
    "        cross_entropy = CrossEntropy()\n",
    "        batch_loss = cross_entropy(output, y_batch)\n",
    "        batch_average_loss = np.sum(batch_loss)/len(output)\n",
    "        temp = cross_entropy.derivative(output, y_batch)\n",
    "        for i in reversed(self.__layers_list):\n",
    "            temp = i.update_weights(temp, self.__lr)\n",
    "        return batch_average_loss"
   ]
  },
  {
   "cell_type": "markdown",
   "metadata": {},
   "source": [
    "# Training Sample Code"
   ]
  },
  {
   "cell_type": "markdown",
   "metadata": {},
   "source": [
    "<strong>1) using Relu function as activation:<br>\n",
    "Advantages:<br>-non-linear: we can easily back propagate.<br>\n",
    "    -accelerates the convergence of stochastic gradient descent compared to sigmoid and tanh.<br>\n",
    "    -does not activate all the neurons at once.<br>\n",
    "<br>\n",
    "Disadvantages:<br>\n",
    "    -The mean value of activation is not zero<br>\n",
    "    -ReLU output is not zero-centered and it does hurt the neural network performance. The gradient of the weights during backpropagation are either all be positive, or all negative.<br>\n",
    "    -The gradients for negative input are zero, which means for activations in that region, the weights are not updated during backpropagation.<br>\n",
    "    -Non-differentiable at zero and ReLU is unbounded<br></strong>\n",
    "    \n",
    "    "
   ]
  },
  {
   "cell_type": "markdown",
   "metadata": {},
   "source": [
    "\n",
    "## Learning rate\n",
    "\n",
    "<strong>The learning rate is a hyperparameter that controls how much to change the model in response to the estimated error each time the model weights are updated.Learning rate affects gradient descent process which tweaks our weights based on the error/loss value\n",
    "</strong>\n"
   ]
  },
  {
   "cell_type": "markdown",
   "metadata": {},
   "source": [
    "## using learning rates 0.001 - 0.01 - 0.1"
   ]
  },
  {
   "cell_type": "code",
   "execution_count": 18,
   "metadata": {},
   "outputs": [
    {
     "name": "stdout",
     "output_type": "stream",
     "text": [
      "Epoch 1:\n",
      "\tTrain: Average Accuracy: 70.09\tAverage Loss: 0.8430377390946014\n",
      "\tTest: Average Accuracy: 80.75079872204473\tAverage Loss: 0.5552760302753859\n",
      "Epoch 2:\n",
      "\tTrain: Average Accuracy: 82.33666666666667\tAverage Loss: 0.5046874670201117\n",
      "\tTest: Average Accuracy: 82.85742811501598\tAverage Loss: 0.4916881952269743\n",
      "Epoch 3:\n",
      "\tTrain: Average Accuracy: 83.93666666666667\tAverage Loss: 0.4594973772406103\n",
      "\tTest: Average Accuracy: 83.69608626198082\tAverage Loss: 0.46706203793557755\n",
      "Epoch 4:\n",
      "\tTrain: Average Accuracy: 84.78\tAverage Loss: 0.4331955102718853\n",
      "\tTest: Average Accuracy: 84.27515974440895\tAverage Loss: 0.4481343202202288\n",
      "Epoch 5:\n",
      "\tTrain: Average Accuracy: 85.48333333333333\tAverage Loss: 0.4138948228961788\n",
      "\tTest: Average Accuracy: 84.754392971246\tAverage Loss: 0.43678493355054143\n",
      "Epoch 6:\n",
      "\tTrain: Average Accuracy: 85.87833333333333\tAverage Loss: 0.3992487407484708\n",
      "\tTest: Average Accuracy: 84.83426517571885\tAverage Loss: 0.4296801078036868\n",
      "Epoch 7:\n",
      "\tTrain: Average Accuracy: 86.24333333333334\tAverage Loss: 0.3873192805817699\n",
      "\tTest: Average Accuracy: 85.15375399361022\tAverage Loss: 0.42179873821910585\n",
      "Epoch 8:\n",
      "\tTrain: Average Accuracy: 86.50333333333333\tAverage Loss: 0.37700826765032464\n",
      "\tTest: Average Accuracy: 85.32348242811501\tAverage Loss: 0.4179244879500465\n",
      "Epoch 9:\n",
      "\tTrain: Average Accuracy: 86.76666666666667\tAverage Loss: 0.36823501829531574\n",
      "\tTest: Average Accuracy: 85.45327476038338\tAverage Loss: 0.41239634607674713\n",
      "Epoch 10:\n",
      "\tTrain: Average Accuracy: 87.02666666666667\tAverage Loss: 0.3606737144980912\n",
      "\tTest: Average Accuracy: 85.87260383386581\tAverage Loss: 0.4069783367395505\n",
      "Epoch 11:\n",
      "\tTrain: Average Accuracy: 87.30333333333333\tAverage Loss: 0.3538465900529128\n",
      "\tTest: Average Accuracy: 85.8626198083067\tAverage Loss: 0.40304020287625925\n",
      "Epoch 12:\n",
      "\tTrain: Average Accuracy: 87.49666666666667\tAverage Loss: 0.3478333711240715\n",
      "\tTest: Average Accuracy: 85.8626198083067\tAverage Loss: 0.3995433410888652\n",
      "Epoch 13:\n",
      "\tTrain: Average Accuracy: 87.70166666666667\tAverage Loss: 0.34252262350158086\n",
      "\tTest: Average Accuracy: 86.10223642172524\tAverage Loss: 0.3974932710571735\n",
      "Epoch 14:\n",
      "\tTrain: Average Accuracy: 87.87\tAverage Loss: 0.3376621039538983\n",
      "\tTest: Average Accuracy: 86.06230031948881\tAverage Loss: 0.395615642302655\n",
      "Epoch 15:\n",
      "\tTrain: Average Accuracy: 87.97666666666667\tAverage Loss: 0.3333310574093407\n",
      "\tTest: Average Accuracy: 86.08226837060703\tAverage Loss: 0.39456252333141606\n",
      "Epoch 16:\n",
      "\tTrain: Average Accuracy: 88.09833333333333\tAverage Loss: 0.32956526574875655\n",
      "\tTest: Average Accuracy: 86.08226837060703\tAverage Loss: 0.39321107247922754\n",
      "Epoch 17:\n",
      "\tTrain: Average Accuracy: 88.25166666666667\tAverage Loss: 0.32582242615493756\n",
      "\tTest: Average Accuracy: 86.06230031948881\tAverage Loss: 0.39165335786941563\n",
      "Epoch 18:\n",
      "\tTrain: Average Accuracy: 88.40833333333333\tAverage Loss: 0.32233592582573156\n",
      "\tTest: Average Accuracy: 85.99241214057508\tAverage Loss: 0.390515695708679\n",
      "Epoch 19:\n",
      "\tTrain: Average Accuracy: 88.48\tAverage Loss: 0.31911928019228386\n",
      "\tTest: Average Accuracy: 86.10223642172524\tAverage Loss: 0.38908533477906804\n",
      "Epoch 20:\n",
      "\tTrain: Average Accuracy: 88.64333333333333\tAverage Loss: 0.3160381816554623\n",
      "\tTest: Average Accuracy: 86.16214057507987\tAverage Loss: 0.388037787330397\n",
      "Epoch 21:\n",
      "\tTrain: Average Accuracy: 88.72166666666666\tAverage Loss: 0.3132445391318162\n",
      "\tTest: Average Accuracy: 86.24201277955271\tAverage Loss: 0.38795929871216006\n",
      "Epoch 22:\n",
      "\tTrain: Average Accuracy: 88.84\tAverage Loss: 0.310353754096036\n",
      "\tTest: Average Accuracy: 86.10223642172524\tAverage Loss: 0.38783517836839737\n",
      "Epoch 23:\n",
      "\tTrain: Average Accuracy: 88.94\tAverage Loss: 0.30775699492070524\n",
      "\tTest: Average Accuracy: 86.14217252396166\tAverage Loss: 0.3871895177043172\n",
      "Epoch 24:\n",
      "\tTrain: Average Accuracy: 88.99333333333334\tAverage Loss: 0.3052397710659487\n",
      "\tTest: Average Accuracy: 86.2020766773163\tAverage Loss: 0.3870971514188759\n",
      "Epoch 25:\n",
      "\tTrain: Average Accuracy: 89.09\tAverage Loss: 0.3029020018151631\n",
      "\tTest: Average Accuracy: 86.25199680511182\tAverage Loss: 0.3872327495187333\n",
      "Epoch 26:\n",
      "\tTrain: Average Accuracy: 89.20166666666667\tAverage Loss: 0.30066676682675975\n",
      "\tTest: Average Accuracy: 86.18210862619809\tAverage Loss: 0.38756117372408017\n",
      "Epoch 27:\n",
      "\tTrain: Average Accuracy: 89.23166666666667\tAverage Loss: 0.29853637222110657\n",
      "\tTest: Average Accuracy: 86.2120607028754\tAverage Loss: 0.3881024927263187\n",
      "Epoch 28:\n",
      "\tTrain: Average Accuracy: 89.30666666666667\tAverage Loss: 0.2967239112135464\n",
      "\tTest: Average Accuracy: 86.25199680511182\tAverage Loss: 0.387724045080416\n",
      "Epoch 29:\n",
      "\tTrain: Average Accuracy: 89.37666666666667\tAverage Loss: 0.29469027693439165\n",
      "\tTest: Average Accuracy: 86.17212460063898\tAverage Loss: 0.3883211680100861\n",
      "Epoch 30:\n",
      "\tTrain: Average Accuracy: 89.44166666666666\tAverage Loss: 0.2927587804911674\n",
      "\tTest: Average Accuracy: 86.13218849840256\tAverage Loss: 0.3881852702265745\n"
     ]
    }
   ],
   "source": [
    "INPUT_SHAPE = 784\n",
    "LEARNING_RATE = 0.001\n",
    "EPOCHS = 30\n",
    "TRAINLOADER = []\n",
    "train_loader = Dataloader(trainData, trainLabels, 10, batch_size=32, shuffle=True)\n",
    "for i in train_loader:\n",
    "    TRAINLOADER.append(i)\n",
    "TESTLOADER = []\n",
    "test_loader = Dataloader(testData, testLabels, 10, batch_size=32, shuffle=True)\n",
    "for i in test_loader:\n",
    "    TESTLOADER.append(i)\n",
    "\n",
    "network = FeedForwardNN(INPUT_SHAPE)\n",
    "network.add_layer(20, input_shape=INPUT_SHAPE, activation=Relu(), initial_weight='uniform')\n",
    "network.add_layer(10, activation=Identical(), initial_weight='uniform')\n",
    "network.set_training_param(loss=CrossEntropy(), lr=LEARNING_RATE)\n",
    "\n",
    "log = network.fit(EPOCHS, TRAINLOADER, TESTLOADER)\n",
    "\n"
   ]
  },
  {
   "cell_type": "code",
   "execution_count": 19,
   "metadata": {},
   "outputs": [
    {
     "name": "stdout",
     "output_type": "stream",
     "text": [
      "Epoch 1:\n",
      "\tTrain: Average Accuracy: 10.005\tAverage Loss: 2.319154047493362\n",
      "\tTest: Average Accuracy: 10.003993610223642\tAverage Loss: 2.3039116233063517\n",
      "Epoch 2:\n",
      "\tTrain: Average Accuracy: 10.025\tAverage Loss: 2.3050794197681252\n",
      "\tTest: Average Accuracy: 10.003993610223642\tAverage Loss: 2.3039140584890463\n",
      "Epoch 3:\n",
      "\tTrain: Average Accuracy: 10.026666666666667\tAverage Loss: 2.305070957062711\n",
      "\tTest: Average Accuracy: 10.003993610223642\tAverage Loss: 2.303915760126706\n",
      "Epoch 4:\n",
      "\tTrain: Average Accuracy: 10.025\tAverage Loss: 2.3050616433957005\n",
      "\tTest: Average Accuracy: 10.003993610223642\tAverage Loss: 2.3039091465295587\n",
      "Epoch 5:\n",
      "\tTrain: Average Accuracy: 10.033333333333333\tAverage Loss: 2.3050349039859404\n",
      "\tTest: Average Accuracy: 10.003993610223642\tAverage Loss: 2.3039107773374585\n",
      "Epoch 6:\n",
      "\tTrain: Average Accuracy: 10.508333333333333\tAverage Loss: 2.29060230573007\n",
      "\tTest: Average Accuracy: 24.600638977635782\tAverage Loss: 1.8675888521728592\n",
      "Epoch 7:\n",
      "\tTrain: Average Accuracy: 23.783333333333335\tAverage Loss: 1.834602955322517\n",
      "\tTest: Average Accuracy: 27.456070287539937\tAverage Loss: 1.6425049232579834\n",
      "Epoch 8:\n",
      "\tTrain: Average Accuracy: 28.295\tAverage Loss: 1.7119550876834402\n",
      "\tTest: Average Accuracy: 20.107827476038338\tAverage Loss: 1.7881033705135903\n",
      "Epoch 9:\n",
      "\tTrain: Average Accuracy: 29.106666666666666\tAverage Loss: 1.6971148444335318\n",
      "\tTest: Average Accuracy: 30.960463258785943\tAverage Loss: 1.6890531815287175\n",
      "Epoch 10:\n",
      "\tTrain: Average Accuracy: 29.098333333333333\tAverage Loss: 1.7115521127650228\n",
      "\tTest: Average Accuracy: 31.279952076677315\tAverage Loss: 1.6333825403157645\n",
      "Epoch 11:\n",
      "\tTrain: Average Accuracy: 29.125\tAverage Loss: 1.7075515885142434\n",
      "\tTest: Average Accuracy: 31.44968051118211\tAverage Loss: 1.651266529924696\n",
      "Epoch 12:\n",
      "\tTrain: Average Accuracy: 35.385\tAverage Loss: 1.5574516890461154\n",
      "\tTest: Average Accuracy: 44.58865814696485\tAverage Loss: 1.2743801032873612\n",
      "Epoch 13:\n",
      "\tTrain: Average Accuracy: 45.843333333333334\tAverage Loss: 1.3195713667865505\n",
      "\tTest: Average Accuracy: 47.54392971246006\tAverage Loss: 1.2451487922300346\n",
      "Epoch 14:\n",
      "\tTrain: Average Accuracy: 47.295\tAverage Loss: 1.3050469895311525\n",
      "\tTest: Average Accuracy: 49.54073482428115\tAverage Loss: 1.175783846824047\n",
      "Epoch 15:\n",
      "\tTrain: Average Accuracy: 48.08\tAverage Loss: 1.280685444478101\n",
      "\tTest: Average Accuracy: 53.8638178913738\tAverage Loss: 1.1707112621717242\n",
      "Epoch 16:\n",
      "\tTrain: Average Accuracy: 48.54\tAverage Loss: 1.2692218301673763\n",
      "\tTest: Average Accuracy: 46.36581469648562\tAverage Loss: 1.2627256581029969\n",
      "Epoch 17:\n",
      "\tTrain: Average Accuracy: 48.245\tAverage Loss: 1.2865174060916762\n",
      "\tTest: Average Accuracy: 48.31269968051118\tAverage Loss: 1.2293038864750527\n",
      "Epoch 18:\n",
      "\tTrain: Average Accuracy: 50.795\tAverage Loss: 1.2246645804477214\n",
      "\tTest: Average Accuracy: 62.19049520766773\tAverage Loss: 1.0262927068816894\n",
      "Epoch 19:\n",
      "\tTrain: Average Accuracy: 55.998333333333335\tAverage Loss: 1.1810446170188746\n",
      "\tTest: Average Accuracy: 49.66054313099041\tAverage Loss: 1.2023600119148592\n",
      "Epoch 20:\n",
      "\tTrain: Average Accuracy: 59.071666666666665\tAverage Loss: 1.1090171800739628\n",
      "\tTest: Average Accuracy: 61.74121405750799\tAverage Loss: 1.0820947739264204\n",
      "Epoch 21:\n",
      "\tTrain: Average Accuracy: 62.425\tAverage Loss: 1.0813231166714188\n",
      "\tTest: Average Accuracy: 61.950878594249204\tAverage Loss: 1.0278831389953922\n",
      "Epoch 22:\n",
      "\tTrain: Average Accuracy: 62.995\tAverage Loss: 1.0484480205138182\n",
      "\tTest: Average Accuracy: 62.42012779552716\tAverage Loss: 1.0318585994876879\n",
      "Epoch 23:\n",
      "\tTrain: Average Accuracy: 63.833333333333336\tAverage Loss: 1.035580300184075\n",
      "\tTest: Average Accuracy: 67.23242811501598\tAverage Loss: 0.9942929452328656\n",
      "Epoch 24:\n",
      "\tTrain: Average Accuracy: 69.54\tAverage Loss: 0.8702779479019948\n",
      "\tTest: Average Accuracy: 58.795926517571885\tAverage Loss: 1.5054447773580888\n",
      "Epoch 25:\n",
      "\tTrain: Average Accuracy: 70.41333333333333\tAverage Loss: 0.8591106902148054\n",
      "\tTest: Average Accuracy: 62.27036741214057\tAverage Loss: 1.0284182029245232\n",
      "Epoch 26:\n",
      "\tTrain: Average Accuracy: 71.35166666666667\tAverage Loss: 0.8490978736209014\n",
      "\tTest: Average Accuracy: 59.83426517571885\tAverage Loss: 1.113345136582162\n",
      "Epoch 27:\n",
      "\tTrain: Average Accuracy: 71.24\tAverage Loss: 0.8601739991792766\n",
      "\tTest: Average Accuracy: 64.94608626198082\tAverage Loss: 1.3023792784549704\n",
      "Epoch 28:\n",
      "\tTrain: Average Accuracy: 72.005\tAverage Loss: 0.828742074148854\n",
      "\tTest: Average Accuracy: 64.11741214057508\tAverage Loss: 1.3523988162121536\n",
      "Epoch 29:\n",
      "\tTrain: Average Accuracy: 74.67333333333333\tAverage Loss: 0.7258141246099125\n",
      "\tTest: Average Accuracy: 69.13937699680511\tAverage Loss: 0.8595742345155095\n",
      "Epoch 30:\n",
      "\tTrain: Average Accuracy: 77.45333333333333\tAverage Loss: 0.6611823857294398\n",
      "\tTest: Average Accuracy: 66.5535143769968\tAverage Loss: 0.9652537488496874\n"
     ]
    }
   ],
   "source": [
    "INPUT_SHAPE = 784\n",
    "LEARNING_RATE = 0.01\n",
    "EPOCHS = 30\n",
    "TRAINLOADER = []\n",
    "train_loader = Dataloader(trainData, trainLabels, 10, batch_size=32, shuffle=True)\n",
    "for i in train_loader:\n",
    "    TRAINLOADER.append(i)\n",
    "TESTLOADER = []\n",
    "test_loader = Dataloader(testData, testLabels, 10, batch_size=32, shuffle=True)\n",
    "for i in test_loader:\n",
    "    TESTLOADER.append(i)\n",
    "\n",
    "network = FeedForwardNN(INPUT_SHAPE)\n",
    "network.add_layer(20, input_shape=INPUT_SHAPE, activation=Relu(), initial_weight='uniform')\n",
    "network.add_layer(10, activation=Identical(), initial_weight='uniform')\n",
    "network.set_training_param(loss=CrossEntropy(), lr=LEARNING_RATE)\n",
    "\n",
    "log = network.fit(EPOCHS, TRAINLOADER, TESTLOADER)"
   ]
  },
  {
   "cell_type": "code",
   "execution_count": 20,
   "metadata": {},
   "outputs": [
    {
     "name": "stdout",
     "output_type": "stream",
     "text": [
      "Epoch 1:\n",
      "\tTrain: Average Accuracy: 10.075\tAverage Loss: 2.3629329634166836\n",
      "\tTest: Average Accuracy: 9.994009584664537\tAverage Loss: 2.315587827602412\n",
      "Epoch 2:\n",
      "\tTrain: Average Accuracy: 10.063333333333333\tAverage Loss: 2.329339029886795\n",
      "\tTest: Average Accuracy: 9.994009584664537\tAverage Loss: 2.315587827602412\n",
      "Epoch 3:\n",
      "\tTrain: Average Accuracy: 10.063333333333333\tAverage Loss: 2.329339029886795\n",
      "\tTest: Average Accuracy: 9.994009584664537\tAverage Loss: 2.315587827602412\n",
      "Epoch 4:\n",
      "\tTrain: Average Accuracy: 10.063333333333333\tAverage Loss: 2.329339029886795\n",
      "\tTest: Average Accuracy: 9.994009584664537\tAverage Loss: 2.315587827602412\n",
      "Epoch 5:\n",
      "\tTrain: Average Accuracy: 10.063333333333333\tAverage Loss: 2.329339029886795\n",
      "\tTest: Average Accuracy: 9.994009584664537\tAverage Loss: 2.315587827602412\n",
      "Epoch 6:\n",
      "\tTrain: Average Accuracy: 10.063333333333333\tAverage Loss: 2.329339029886795\n",
      "\tTest: Average Accuracy: 9.994009584664537\tAverage Loss: 2.315587827602412\n",
      "Epoch 7:\n",
      "\tTrain: Average Accuracy: 10.063333333333333\tAverage Loss: 2.329339029886795\n",
      "\tTest: Average Accuracy: 9.994009584664537\tAverage Loss: 2.315587827602412\n",
      "Epoch 8:\n",
      "\tTrain: Average Accuracy: 10.063333333333333\tAverage Loss: 2.329339029886795\n",
      "\tTest: Average Accuracy: 9.994009584664537\tAverage Loss: 2.315587827602412\n",
      "Epoch 9:\n",
      "\tTrain: Average Accuracy: 10.063333333333333\tAverage Loss: 2.329339029886795\n",
      "\tTest: Average Accuracy: 9.994009584664537\tAverage Loss: 2.315587827602412\n",
      "Epoch 10:\n",
      "\tTrain: Average Accuracy: 10.063333333333333\tAverage Loss: 2.329339029886795\n",
      "\tTest: Average Accuracy: 9.994009584664537\tAverage Loss: 2.315587827602412\n",
      "Epoch 11:\n",
      "\tTrain: Average Accuracy: 10.063333333333333\tAverage Loss: 2.329339029886795\n",
      "\tTest: Average Accuracy: 9.994009584664537\tAverage Loss: 2.315587827602412\n",
      "Epoch 12:\n",
      "\tTrain: Average Accuracy: 10.063333333333333\tAverage Loss: 2.329339029886795\n",
      "\tTest: Average Accuracy: 9.994009584664537\tAverage Loss: 2.315587827602412\n",
      "Epoch 13:\n",
      "\tTrain: Average Accuracy: 10.063333333333333\tAverage Loss: 2.329339029886795\n",
      "\tTest: Average Accuracy: 9.994009584664537\tAverage Loss: 2.315587827602412\n",
      "Epoch 14:\n",
      "\tTrain: Average Accuracy: 10.063333333333333\tAverage Loss: 2.329339029886795\n",
      "\tTest: Average Accuracy: 9.994009584664537\tAverage Loss: 2.315587827602412\n",
      "Epoch 15:\n",
      "\tTrain: Average Accuracy: 10.063333333333333\tAverage Loss: 2.329339029886795\n",
      "\tTest: Average Accuracy: 9.994009584664537\tAverage Loss: 2.315587827602412\n",
      "Epoch 16:\n",
      "\tTrain: Average Accuracy: 10.063333333333333\tAverage Loss: 2.329339029886795\n",
      "\tTest: Average Accuracy: 9.994009584664537\tAverage Loss: 2.315587827602412\n",
      "Epoch 17:\n",
      "\tTrain: Average Accuracy: 10.063333333333333\tAverage Loss: 2.329339029886795\n",
      "\tTest: Average Accuracy: 9.994009584664537\tAverage Loss: 2.315587827602412\n",
      "Epoch 18:\n",
      "\tTrain: Average Accuracy: 10.063333333333333\tAverage Loss: 2.329339029886795\n",
      "\tTest: Average Accuracy: 9.994009584664537\tAverage Loss: 2.315587827602412\n",
      "Epoch 19:\n",
      "\tTrain: Average Accuracy: 10.063333333333333\tAverage Loss: 2.329339029886795\n",
      "\tTest: Average Accuracy: 9.994009584664537\tAverage Loss: 2.315587827602412\n",
      "Epoch 20:\n",
      "\tTrain: Average Accuracy: 10.063333333333333\tAverage Loss: 2.329339029886795\n",
      "\tTest: Average Accuracy: 9.994009584664537\tAverage Loss: 2.315587827602412\n",
      "Epoch 21:\n",
      "\tTrain: Average Accuracy: 10.063333333333333\tAverage Loss: 2.329339029886795\n",
      "\tTest: Average Accuracy: 9.994009584664537\tAverage Loss: 2.315587827602412\n",
      "Epoch 22:\n",
      "\tTrain: Average Accuracy: 10.063333333333333\tAverage Loss: 2.329339029886795\n",
      "\tTest: Average Accuracy: 9.994009584664537\tAverage Loss: 2.315587827602412\n",
      "Epoch 23:\n",
      "\tTrain: Average Accuracy: 10.063333333333333\tAverage Loss: 2.329339029886795\n",
      "\tTest: Average Accuracy: 9.994009584664537\tAverage Loss: 2.315587827602412\n",
      "Epoch 24:\n",
      "\tTrain: Average Accuracy: 10.063333333333333\tAverage Loss: 2.329339029886795\n",
      "\tTest: Average Accuracy: 9.994009584664537\tAverage Loss: 2.315587827602412\n",
      "Epoch 25:\n",
      "\tTrain: Average Accuracy: 10.063333333333333\tAverage Loss: 2.329339029886795\n",
      "\tTest: Average Accuracy: 9.994009584664537\tAverage Loss: 2.315587827602412\n",
      "Epoch 26:\n",
      "\tTrain: Average Accuracy: 10.063333333333333\tAverage Loss: 2.329339029886795\n",
      "\tTest: Average Accuracy: 9.994009584664537\tAverage Loss: 2.315587827602412\n",
      "Epoch 27:\n",
      "\tTrain: Average Accuracy: 10.063333333333333\tAverage Loss: 2.329339029886795\n",
      "\tTest: Average Accuracy: 9.994009584664537\tAverage Loss: 2.315587827602412\n",
      "Epoch 28:\n",
      "\tTrain: Average Accuracy: 10.063333333333333\tAverage Loss: 2.329339029886795\n",
      "\tTest: Average Accuracy: 9.994009584664537\tAverage Loss: 2.315587827602412\n",
      "Epoch 29:\n",
      "\tTrain: Average Accuracy: 10.063333333333333\tAverage Loss: 2.329339029886795\n",
      "\tTest: Average Accuracy: 9.994009584664537\tAverage Loss: 2.315587827602412\n",
      "Epoch 30:\n",
      "\tTrain: Average Accuracy: 10.063333333333333\tAverage Loss: 2.329339029886795\n",
      "\tTest: Average Accuracy: 9.994009584664537\tAverage Loss: 2.315587827602412\n"
     ]
    }
   ],
   "source": [
    "INPUT_SHAPE = 784\n",
    "LEARNING_RATE = 0.1\n",
    "EPOCHS = 30\n",
    "TRAINLOADER = []\n",
    "train_loader = Dataloader(trainData, trainLabels, 10, batch_size=32, shuffle=True)\n",
    "for i in train_loader:\n",
    "    TRAINLOADER.append(i)\n",
    "TESTLOADER = []\n",
    "test_loader = Dataloader(testData, testLabels, 10, batch_size=32, shuffle=True)\n",
    "for i in test_loader:\n",
    "    TESTLOADER.append(i)\n",
    "\n",
    "network = FeedForwardNN(INPUT_SHAPE)\n",
    "network.add_layer(20, input_shape=INPUT_SHAPE, activation=Relu(), initial_weight='uniform')\n",
    "network.add_layer(15, activation=Relu(), initial_weight='uniform')\n",
    "network.add_layer(10, activation=Identical(), initial_weight='uniform')\n",
    "network.set_training_param(loss=CrossEntropy(), lr=LEARNING_RATE)\n",
    "\n",
    "log = network.fit(EPOCHS, TRAINLOADER, TESTLOADER)"
   ]
  },
  {
   "cell_type": "markdown",
   "metadata": {},
   "source": [
    "<strong> as we can see by increasing the learning rate the functionality of Relu decreases and it becomes the worst possible outcome in the third option where lr = 0.1<br>\n",
    "By decreasing the learning rate over the network, we decrease the changes in weights. In gradient descent learning algorithms such as error backpropagation, the learning rate parameter can have a significant effect on accuracy. In particular, decreasing the learning rate can significantly improve generalization accuracy, especially on large, complex problems.\n",
    "</strong>"
   ]
  },
  {
   "cell_type": "markdown",
   "metadata": {},
   "source": [
    "## Leaky Relu\n",
    "<strong> a solution for Relu's problems. t has a negative slope for negative inputs, so the derivative will have a value to let the back-prop keep going.<br> we will divide all our values by 10 to avoid overflow</strong>"
   ]
  },
  {
   "cell_type": "code",
   "execution_count": 21,
   "metadata": {},
   "outputs": [
    {
     "name": "stdout",
     "output_type": "stream",
     "text": [
      "Epoch 1:\n",
      "\tTrain: Average Accuracy: 32.655\tAverage Loss: 1.8960723323200026\n",
      "\tTest: Average Accuracy: 51.847044728434504\tAverage Loss: 1.3692576292556833\n",
      "Epoch 2:\n",
      "\tTrain: Average Accuracy: 59.83833333333333\tAverage Loss: 1.1365219683550862\n",
      "\tTest: Average Accuracy: 67.62180511182109\tAverage Loss: 0.9612749966782974\n",
      "Epoch 3:\n",
      "\tTrain: Average Accuracy: 70.99\tAverage Loss: 0.8387411142240122\n",
      "\tTest: Average Accuracy: 72.4341054313099\tAverage Loss: 0.7673311976414142\n",
      "Epoch 4:\n",
      "\tTrain: Average Accuracy: 74.06333333333333\tAverage Loss: 0.7143344406711067\n",
      "\tTest: Average Accuracy: 74.38099041533546\tAverage Loss: 0.6947683591741187\n",
      "Epoch 5:\n",
      "\tTrain: Average Accuracy: 75.935\tAverage Loss: 0.6593756786188317\n",
      "\tTest: Average Accuracy: 75.69888178913737\tAverage Loss: 0.6538139615777662\n",
      "Epoch 6:\n",
      "\tTrain: Average Accuracy: 77.41333333333333\tAverage Loss: 0.6234106499413591\n",
      "\tTest: Average Accuracy: 77.10662939297124\tAverage Loss: 0.6246428323728928\n",
      "Epoch 7:\n",
      "\tTrain: Average Accuracy: 78.61666666666666\tAverage Loss: 0.5958841594421641\n",
      "\tTest: Average Accuracy: 77.98522364217253\tAverage Loss: 0.6018472441874891\n",
      "Epoch 8:\n",
      "\tTrain: Average Accuracy: 79.59166666666667\tAverage Loss: 0.5732715512703782\n",
      "\tTest: Average Accuracy: 78.93370607028754\tAverage Loss: 0.582866546252391\n",
      "Epoch 9:\n",
      "\tTrain: Average Accuracy: 80.41666666666667\tAverage Loss: 0.5537679824218229\n",
      "\tTest: Average Accuracy: 79.53274760383387\tAverage Loss: 0.5664518476145307\n",
      "Epoch 10:\n",
      "\tTrain: Average Accuracy: 81.17166666666667\tAverage Loss: 0.5366619273235459\n",
      "\tTest: Average Accuracy: 80.23162939297124\tAverage Loss: 0.5520689426739653\n",
      "Epoch 11:\n",
      "\tTrain: Average Accuracy: 81.865\tAverage Loss: 0.5218324092536699\n",
      "\tTest: Average Accuracy: 80.76078274760384\tAverage Loss: 0.5397269023263095\n",
      "Epoch 12:\n",
      "\tTrain: Average Accuracy: 82.35333333333334\tAverage Loss: 0.5092228313581988\n",
      "\tTest: Average Accuracy: 81.08027156549521\tAverage Loss: 0.5293020133374242\n",
      "Epoch 13:\n",
      "\tTrain: Average Accuracy: 82.73333333333333\tAverage Loss: 0.4985958061738244\n",
      "\tTest: Average Accuracy: 81.439696485623\tAverage Loss: 0.5205660765138864\n",
      "Epoch 14:\n",
      "\tTrain: Average Accuracy: 83.04333333333334\tAverage Loss: 0.48962869352502275\n",
      "\tTest: Average Accuracy: 81.82907348242811\tAverage Loss: 0.5132132351644073\n",
      "Epoch 15:\n",
      "\tTrain: Average Accuracy: 83.25666666666666\tAverage Loss: 0.48198583163453157\n",
      "\tTest: Average Accuracy: 82.06869009584665\tAverage Loss: 0.5069382494739144\n",
      "Epoch 16:\n",
      "\tTrain: Average Accuracy: 83.48833333333333\tAverage Loss: 0.4753918452206417\n",
      "\tTest: Average Accuracy: 82.3582268370607\tAverage Loss: 0.5015050745824966\n",
      "Epoch 17:\n",
      "\tTrain: Average Accuracy: 83.74333333333334\tAverage Loss: 0.46963529077665456\n",
      "\tTest: Average Accuracy: 82.5379392971246\tAverage Loss: 0.4967426575637359\n",
      "Epoch 18:\n",
      "\tTrain: Average Accuracy: 83.93166666666667\tAverage Loss: 0.4645386536635552\n",
      "\tTest: Average Accuracy: 82.75758785942492\tAverage Loss: 0.4925835491790051\n",
      "Epoch 19:\n",
      "\tTrain: Average Accuracy: 84.08666666666667\tAverage Loss: 0.45998549270550876\n",
      "\tTest: Average Accuracy: 82.93730031948881\tAverage Loss: 0.4888571369515468\n",
      "Epoch 20:\n",
      "\tTrain: Average Accuracy: 84.22666666666667\tAverage Loss: 0.45587124683013924\n",
      "\tTest: Average Accuracy: 83.09704472843451\tAverage Loss: 0.48547538658629985\n",
      "Epoch 21:\n",
      "\tTrain: Average Accuracy: 84.36\tAverage Loss: 0.45211480606492405\n",
      "\tTest: Average Accuracy: 83.17691693290735\tAverage Loss: 0.48246405277391846\n",
      "Epoch 22:\n",
      "\tTrain: Average Accuracy: 84.51666666666667\tAverage Loss: 0.4486723722114416\n",
      "\tTest: Average Accuracy: 83.18690095846645\tAverage Loss: 0.4797253823694868\n",
      "Epoch 23:\n",
      "\tTrain: Average Accuracy: 84.62166666666667\tAverage Loss: 0.44550261637502664\n",
      "\tTest: Average Accuracy: 83.19688498402556\tAverage Loss: 0.4772274447018524\n",
      "Epoch 24:\n",
      "\tTrain: Average Accuracy: 84.70666666666666\tAverage Loss: 0.442581505134419\n",
      "\tTest: Average Accuracy: 83.20686900958466\tAverage Loss: 0.474943581294028\n",
      "Epoch 25:\n",
      "\tTrain: Average Accuracy: 84.815\tAverage Loss: 0.43984935145161724\n",
      "\tTest: Average Accuracy: 83.2667731629393\tAverage Loss: 0.47281644851925186\n",
      "Epoch 26:\n",
      "\tTrain: Average Accuracy: 84.87666666666667\tAverage Loss: 0.4372904202637185\n",
      "\tTest: Average Accuracy: 83.32667731629392\tAverage Loss: 0.4708909791570603\n",
      "Epoch 27:\n",
      "\tTrain: Average Accuracy: 84.93833333333333\tAverage Loss: 0.4349004570924962\n",
      "\tTest: Average Accuracy: 83.42651757188499\tAverage Loss: 0.46908384356595506\n",
      "Epoch 28:\n",
      "\tTrain: Average Accuracy: 85.005\tAverage Loss: 0.43263759626167897\n",
      "\tTest: Average Accuracy: 83.51637380191693\tAverage Loss: 0.46737267546452815\n",
      "Epoch 29:\n",
      "\tTrain: Average Accuracy: 85.08333333333333\tAverage Loss: 0.43050680350489023\n",
      "\tTest: Average Accuracy: 83.6261980830671\tAverage Loss: 0.4657740330555757\n",
      "Epoch 30:\n",
      "\tTrain: Average Accuracy: 85.15333333333334\tAverage Loss: 0.42849674832347173\n",
      "\tTest: Average Accuracy: 83.60623003194888\tAverage Loss: 0.4643089324786903\n"
     ]
    }
   ],
   "source": [
    "INPUT_SHAPE = 784\n",
    "LEARNING_RATE = 0.001\n",
    "EPOCHS = 30\n",
    "TRAINLOADER = []\n",
    "trainData = trainData / 10\n",
    "testData = testData / 10\n",
    "train_loader = Dataloader(trainData, trainLabels, 10, batch_size=32, shuffle=True)\n",
    "for i in train_loader:\n",
    "    TRAINLOADER.append(i)\n",
    "TESTLOADER = []\n",
    "test_loader = Dataloader(testData, testLabels, 10, batch_size=32, shuffle=True)\n",
    "for i in test_loader:\n",
    "    TESTLOADER.append(i)\n",
    "\n",
    "network = FeedForwardNN(INPUT_SHAPE)\n",
    "network.add_layer(20, input_shape=INPUT_SHAPE, activation=LeakyRelu(), initial_weight='uniform')\n",
    "network.add_layer(10, activation=Identical(), initial_weight='uniform')\n",
    "network.set_training_param(loss=CrossEntropy(), lr=LEARNING_RATE)\n",
    "log = network.fit(EPOCHS, TRAINLOADER, TESTLOADER)\n",
    "\n"
   ]
  },
  {
   "cell_type": "markdown",
   "metadata": {},
   "source": [
    "<strong> as we can see it almost has the same output as Relu function</strong>"
   ]
  },
  {
   "cell_type": "code",
   "execution_count": 22,
   "metadata": {},
   "outputs": [],
   "source": [
    "trainData = pd.read_csv(\"trainData.csv\", header=None)\n",
    "testData = pd.read_csv(\"testData.csv\", header = None)\n",
    "trainLabels = np.genfromtxt('trainLabels.csv', delimiter=',')\n",
    "testLabels = np.genfromtxt('testLabels.csv', delimiter=',')"
   ]
  },
  {
   "cell_type": "code",
   "execution_count": 23,
   "metadata": {},
   "outputs": [],
   "source": [
    "trainData = trainData.to_numpy()\n",
    "testData = testData.to_numpy()\n",
    "trainData = trainData / 255\n",
    "testData = testData / 255"
   ]
  },
  {
   "cell_type": "markdown",
   "metadata": {},
   "source": [
    "## Sigmoid and Tanh \n",
    "<strong> smooth gradient functions which they bound their output to [0, 1] interval, but they have the vanishing gradient problem when very large values which the output becomes close to 1 and very small values the output becomes close to 0 causing the derivative of these functions becoming more close to 0 hence no change duuring the updates of the weights.</strong>"
   ]
  },
  {
   "cell_type": "code",
   "execution_count": 24,
   "metadata": {},
   "outputs": [
    {
     "name": "stdout",
     "output_type": "stream",
     "text": [
      "Epoch 1:\n",
      "\tTrain: Average Accuracy: 12.555\tAverage Loss: 2.285697137823532\n",
      "\tTest: Average Accuracy: 22.763578274760384\tAverage Loss: 2.1170999357327296\n",
      "Epoch 2:\n",
      "\tTrain: Average Accuracy: 36.473333333333336\tAverage Loss: 1.7228460857693504\n",
      "\tTest: Average Accuracy: 48.98162939297124\tAverage Loss: 1.3912223201122706\n",
      "Epoch 3:\n",
      "\tTrain: Average Accuracy: 52.215\tAverage Loss: 1.2233323929572004\n",
      "\tTest: Average Accuracy: 54.62260383386582\tAverage Loss: 1.1297799325195288\n",
      "Epoch 4:\n",
      "\tTrain: Average Accuracy: 60.56\tAverage Loss: 1.050379734140954\n",
      "\tTest: Average Accuracy: 65.6150159744409\tAverage Loss: 0.981562590855921\n",
      "Epoch 5:\n",
      "\tTrain: Average Accuracy: 69.77166666666666\tAverage Loss: 0.8779917537518706\n",
      "\tTest: Average Accuracy: 71.16613418530352\tAverage Loss: 0.8106498598306817\n",
      "Epoch 6:\n",
      "\tTrain: Average Accuracy: 74.47666666666667\tAverage Loss: 0.7302012272412277\n",
      "\tTest: Average Accuracy: 74.6305910543131\tAverage Loss: 0.7029538725921096\n",
      "Epoch 7:\n",
      "\tTrain: Average Accuracy: 77.62666666666667\tAverage Loss: 0.6407879502310616\n",
      "\tTest: Average Accuracy: 78.41453674121406\tAverage Loss: 0.6327702896400501\n",
      "Epoch 8:\n",
      "\tTrain: Average Accuracy: 80.60666666666667\tAverage Loss: 0.5779890539094424\n",
      "\tTest: Average Accuracy: 80.82068690095846\tAverage Loss: 0.58236755814357\n",
      "Epoch 9:\n",
      "\tTrain: Average Accuracy: 82.665\tAverage Loss: 0.5333141033140143\n",
      "\tTest: Average Accuracy: 81.88897763578275\tAverage Loss: 0.5488449710136957\n",
      "Epoch 10:\n",
      "\tTrain: Average Accuracy: 83.54833333333333\tAverage Loss: 0.5030465227871271\n",
      "\tTest: Average Accuracy: 82.57787539936102\tAverage Loss: 0.5268530262661862\n",
      "Epoch 11:\n",
      "\tTrain: Average Accuracy: 84.03666666666666\tAverage Loss: 0.4821820015651066\n",
      "\tTest: Average Accuracy: 82.78753993610223\tAverage Loss: 0.5116616340711018\n",
      "Epoch 12:\n",
      "\tTrain: Average Accuracy: 84.36833333333334\tAverage Loss: 0.4670399247789125\n",
      "\tTest: Average Accuracy: 82.9173322683706\tAverage Loss: 0.500592595850842\n",
      "Epoch 13:\n",
      "\tTrain: Average Accuracy: 84.685\tAverage Loss: 0.45549811181369343\n",
      "\tTest: Average Accuracy: 83.14696485623003\tAverage Loss: 0.4920697822265617\n",
      "Epoch 14:\n",
      "\tTrain: Average Accuracy: 84.92166666666667\tAverage Loss: 0.4463184874249346\n",
      "\tTest: Average Accuracy: 83.32667731629392\tAverage Loss: 0.4852029090184004\n",
      "Epoch 15:\n",
      "\tTrain: Average Accuracy: 85.15333333333334\tAverage Loss: 0.438743712082495\n",
      "\tTest: Average Accuracy: 83.38658146964856\tAverage Loss: 0.4794940576038934\n",
      "Epoch 16:\n",
      "\tTrain: Average Accuracy: 85.31333333333333\tAverage Loss: 0.43232828516473315\n",
      "\tTest: Average Accuracy: 83.53634185303514\tAverage Loss: 0.4746737558891556\n",
      "Epoch 17:\n",
      "\tTrain: Average Accuracy: 85.45333333333333\tAverage Loss: 0.426807901137125\n",
      "\tTest: Average Accuracy: 83.4564696485623\tAverage Loss: 0.47053687745835243\n",
      "Epoch 18:\n",
      "\tTrain: Average Accuracy: 85.58\tAverage Loss: 0.42197692129146747\n",
      "\tTest: Average Accuracy: 83.6361821086262\tAverage Loss: 0.46691334242342103\n",
      "Epoch 19:\n",
      "\tTrain: Average Accuracy: 85.715\tAverage Loss: 0.4176793203765022\n",
      "\tTest: Average Accuracy: 83.78594249201278\tAverage Loss: 0.4636839021306943\n",
      "Epoch 20:\n",
      "\tTrain: Average Accuracy: 85.79833333333333\tAverage Loss: 0.41380330671410437\n",
      "\tTest: Average Accuracy: 83.83586261980831\tAverage Loss: 0.46077077888458007\n",
      "Epoch 21:\n",
      "\tTrain: Average Accuracy: 85.89666666666666\tAverage Loss: 0.4102687123674388\n",
      "\tTest: Average Accuracy: 83.91573482428115\tAverage Loss: 0.4581237717838082\n",
      "Epoch 22:\n",
      "\tTrain: Average Accuracy: 85.98666666666666\tAverage Loss: 0.40701671971093173\n",
      "\tTest: Average Accuracy: 84.05551118210863\tAverage Loss: 0.455707884379263\n",
      "Epoch 23:\n",
      "\tTrain: Average Accuracy: 86.1\tAverage Loss: 0.4040027770829911\n",
      "\tTest: Average Accuracy: 84.16533546325878\tAverage Loss: 0.4534951980570617\n",
      "Epoch 24:\n",
      "\tTrain: Average Accuracy: 86.19666666666667\tAverage Loss: 0.4011919838309476\n",
      "\tTest: Average Accuracy: 84.21525559105432\tAverage Loss: 0.45146088322112143\n",
      "Epoch 25:\n",
      "\tTrain: Average Accuracy: 86.27\tAverage Loss: 0.39855610912197925\n",
      "\tTest: Average Accuracy: 84.23522364217253\tAverage Loss: 0.44958175532873434\n",
      "Epoch 26:\n",
      "\tTrain: Average Accuracy: 86.37333333333333\tAverage Loss: 0.3960716976380307\n",
      "\tTest: Average Accuracy: 84.32507987220447\tAverage Loss: 0.44783594867444\n",
      "Epoch 27:\n",
      "\tTrain: Average Accuracy: 86.43\tAverage Loss: 0.3937189211505099\n",
      "\tTest: Average Accuracy: 84.3650159744409\tAverage Loss: 0.44620289435084626\n",
      "Epoch 28:\n",
      "\tTrain: Average Accuracy: 86.48333333333333\tAverage Loss: 0.39148085320349374\n",
      "\tTest: Average Accuracy: 84.39496805111821\tAverage Loss: 0.4446631777218492\n",
      "Epoch 29:\n",
      "\tTrain: Average Accuracy: 86.54166666666667\tAverage Loss: 0.38934286745723184\n",
      "\tTest: Average Accuracy: 84.46485623003196\tAverage Loss: 0.44319789986275554\n",
      "Epoch 30:\n",
      "\tTrain: Average Accuracy: 86.59833333333333\tAverage Loss: 0.3872917890460917\n",
      "\tTest: Average Accuracy: 84.57468051118211\tAverage Loss: 0.4417870445477657\n"
     ]
    }
   ],
   "source": [
    "INPUT_SHAPE = 784\n",
    "LEARNING_RATE = 0.001\n",
    "EPOCHS = 30\n",
    "TRAINLOADER = []\n",
    "train_loader = Dataloader(trainData, trainLabels, 10, batch_size=32, shuffle=True)\n",
    "for i in train_loader:\n",
    "    TRAINLOADER.append(i)\n",
    "TESTLOADER = []\n",
    "test_loader = Dataloader(testData, testLabels, 10, batch_size=32, shuffle=True)\n",
    "for i in test_loader:\n",
    "    TESTLOADER.append(i)\n",
    "\n",
    "network = FeedForwardNN(INPUT_SHAPE)\n",
    "network.add_layer(20, input_shape=INPUT_SHAPE, activation=Sigmoid(), initial_weight='uniform')\n",
    "network.add_layer(10, activation=Identical(), initial_weight='uniform')\n",
    "network.set_training_param(loss=CrossEntropy(), lr=LEARNING_RATE)\n",
    "\n",
    "log = network.fit(EPOCHS, TRAINLOADER, TESTLOADER)"
   ]
  },
  {
   "cell_type": "code",
   "execution_count": 25,
   "metadata": {
    "scrolled": false
   },
   "outputs": [
    {
     "name": "stdout",
     "output_type": "stream",
     "text": [
      "Epoch 1:\n",
      "\tTrain: Average Accuracy: 9.87\tAverage Loss: 2.3070204412389392\n",
      "\tTest: Average Accuracy: 9.994009584664537\tAverage Loss: 2.3048231089488387\n",
      "Epoch 2:\n",
      "\tTrain: Average Accuracy: 31.321666666666665\tAverage Loss: 1.7449844015068083\n",
      "\tTest: Average Accuracy: 52.9452875399361\tAverage Loss: 1.2506891575518375\n",
      "Epoch 3:\n",
      "\tTrain: Average Accuracy: 63.48166666666667\tAverage Loss: 0.9183606622118616\n",
      "\tTest: Average Accuracy: 66.32388178913737\tAverage Loss: 0.784357384390454\n",
      "Epoch 4:\n",
      "\tTrain: Average Accuracy: 69.99666666666667\tAverage Loss: 0.7318655208286009\n",
      "\tTest: Average Accuracy: 70.51717252396166\tAverage Loss: 0.7116245721963365\n",
      "Epoch 5:\n",
      "\tTrain: Average Accuracy: 74.10333333333334\tAverage Loss: 0.6517491246640732\n",
      "\tTest: Average Accuracy: 75.52915335463258\tAverage Loss: 0.6464365293448503\n",
      "Epoch 6:\n",
      "\tTrain: Average Accuracy: 78.74833333333333\tAverage Loss: 0.5888933823579233\n",
      "\tTest: Average Accuracy: 79.02356230031948\tAverage Loss: 0.5934264901312405\n",
      "Epoch 7:\n",
      "\tTrain: Average Accuracy: 80.92333333333333\tAverage Loss: 0.5466934522947962\n",
      "\tTest: Average Accuracy: 80.48123003194888\tAverage Loss: 0.5601401260979402\n",
      "Epoch 8:\n",
      "\tTrain: Average Accuracy: 83.09\tAverage Loss: 0.5076074340990903\n",
      "\tTest: Average Accuracy: 81.56948881789137\tAverage Loss: 0.5398297546764587\n",
      "Epoch 9:\n",
      "\tTrain: Average Accuracy: 83.73\tAverage Loss: 0.4882286150787735\n",
      "\tTest: Average Accuracy: 82.1685303514377\tAverage Loss: 0.5284420628707542\n",
      "Epoch 10:\n",
      "\tTrain: Average Accuracy: 84.07\tAverage Loss: 0.4754630900293455\n",
      "\tTest: Average Accuracy: 82.45806709265176\tAverage Loss: 0.5155437230483358\n",
      "Epoch 11:\n",
      "\tTrain: Average Accuracy: 84.45666666666666\tAverage Loss: 0.4578383279246218\n",
      "\tTest: Average Accuracy: 82.71765175718849\tAverage Loss: 0.49774155430552003\n",
      "Epoch 12:\n",
      "\tTrain: Average Accuracy: 84.80166666666666\tAverage Loss: 0.44209673500107066\n",
      "\tTest: Average Accuracy: 82.87739616613419\tAverage Loss: 0.4852237691549925\n",
      "Epoch 13:\n",
      "\tTrain: Average Accuracy: 85.07166666666667\tAverage Loss: 0.4318471111244163\n",
      "\tTest: Average Accuracy: 82.98722044728434\tAverage Loss: 0.4776602674376997\n",
      "Epoch 14:\n",
      "\tTrain: Average Accuracy: 85.23666666666666\tAverage Loss: 0.4244208008897737\n",
      "\tTest: Average Accuracy: 83.0870607028754\tAverage Loss: 0.4726696455554079\n",
      "Epoch 15:\n",
      "\tTrain: Average Accuracy: 85.42833333333333\tAverage Loss: 0.41850824838207323\n",
      "\tTest: Average Accuracy: 83.16693290734824\tAverage Loss: 0.46935525956674207\n",
      "Epoch 16:\n",
      "\tTrain: Average Accuracy: 85.61166666666666\tAverage Loss: 0.41356240171641084\n",
      "\tTest: Average Accuracy: 83.39656549520767\tAverage Loss: 0.46708991670461936\n",
      "Epoch 17:\n",
      "\tTrain: Average Accuracy: 85.755\tAverage Loss: 0.40926935439764184\n",
      "\tTest: Average Accuracy: 83.54632587859425\tAverage Loss: 0.4655165284637628\n",
      "Epoch 18:\n",
      "\tTrain: Average Accuracy: 85.90666666666667\tAverage Loss: 0.40544630620345284\n",
      "\tTest: Average Accuracy: 83.60623003194888\tAverage Loss: 0.4643283432517089\n",
      "Epoch 19:\n",
      "\tTrain: Average Accuracy: 86.01833333333333\tAverage Loss: 0.4019861180864374\n",
      "\tTest: Average Accuracy: 83.58626198083067\tAverage Loss: 0.4633284948422624\n",
      "Epoch 20:\n",
      "\tTrain: Average Accuracy: 86.125\tAverage Loss: 0.3988145693755202\n",
      "\tTest: Average Accuracy: 83.55630990415335\tAverage Loss: 0.46244702154487266\n",
      "Epoch 21:\n",
      "\tTrain: Average Accuracy: 86.18666666666667\tAverage Loss: 0.3958865952758593\n",
      "\tTest: Average Accuracy: 83.61621405750799\tAverage Loss: 0.46167703412180683\n",
      "Epoch 22:\n",
      "\tTrain: Average Accuracy: 86.36\tAverage Loss: 0.39317143454896664\n",
      "\tTest: Average Accuracy: 83.6361821086262\tAverage Loss: 0.4610277179346829\n",
      "Epoch 23:\n",
      "\tTrain: Average Accuracy: 86.455\tAverage Loss: 0.390644914724667\n",
      "\tTest: Average Accuracy: 83.67611821086263\tAverage Loss: 0.46050306486580495\n",
      "Epoch 24:\n",
      "\tTrain: Average Accuracy: 86.53833333333333\tAverage Loss: 0.3882926683264044\n",
      "\tTest: Average Accuracy: 83.58626198083067\tAverage Loss: 0.4600970997307094\n",
      "Epoch 25:\n",
      "\tTrain: Average Accuracy: 86.645\tAverage Loss: 0.3861041126465974\n",
      "\tTest: Average Accuracy: 83.55630990415335\tAverage Loss: 0.4597915857874036\n",
      "Epoch 26:\n",
      "\tTrain: Average Accuracy: 86.73666666666666\tAverage Loss: 0.38406444504471243\n",
      "\tTest: Average Accuracy: 83.55630990415335\tAverage Loss: 0.4595627462939799\n",
      "Epoch 27:\n",
      "\tTrain: Average Accuracy: 86.79\tAverage Loss: 0.38215515413769985\n",
      "\tTest: Average Accuracy: 83.72603833865814\tAverage Loss: 0.4593913302990608\n",
      "Epoch 28:\n",
      "\tTrain: Average Accuracy: 86.86833333333334\tAverage Loss: 0.3803577745872894\n",
      "\tTest: Average Accuracy: 83.83586261980831\tAverage Loss: 0.4592656198021264\n",
      "Epoch 29:\n",
      "\tTrain: Average Accuracy: 86.94833333333334\tAverage Loss: 0.3786575834012634\n",
      "\tTest: Average Accuracy: 83.8258785942492\tAverage Loss: 0.459177792472819\n",
      "Epoch 30:\n",
      "\tTrain: Average Accuracy: 87.02833333333334\tAverage Loss: 0.3770496983887848\n",
      "\tTest: Average Accuracy: 83.79592651757189\tAverage Loss: 0.45910858230095614\n"
     ]
    }
   ],
   "source": [
    "INPUT_SHAPE = 784\n",
    "LEARNING_RATE = 0.001\n",
    "EPOCHS = 30\n",
    "TRAINLOADER = []\n",
    "train_loader = Dataloader(trainData, trainLabels, 10, batch_size=32, shuffle=True)\n",
    "for i in train_loader:\n",
    "    TRAINLOADER.append(i)\n",
    "TESTLOADER = []\n",
    "test_loader = Dataloader(testData, testLabels, 10, batch_size=32, shuffle=True)\n",
    "for i in test_loader:\n",
    "    TESTLOADER.append(i)\n",
    "\n",
    "network = FeedForwardNN(INPUT_SHAPE)\n",
    "network.add_layer(20, input_shape=INPUT_SHAPE, activation=Tanh(), initial_weight='uniform')\n",
    "network.add_layer(10, activation=Identical(), initial_weight='uniform')\n",
    "network.set_training_param(loss=CrossEntropy(), lr=LEARNING_RATE)\n",
    "\n",
    "log = network.fit(EPOCHS, TRAINLOADER, TESTLOADER)"
   ]
  },
  {
   "cell_type": "markdown",
   "metadata": {},
   "source": [
    "<strong> as we can see the accuracy is almost similar to each other between these 4 functions but these two have slower learnings</strong>\n",
    "<strong> in the real world, and in very large values Leaky Relu function might work better than any of these activation functions, but in our structure, they act similarly and the Relu function works the best among them, so we choose Relu for our activation function, 0.001 for our learning rate, now we have to choose the best batch size.</strong>"
   ]
  },
  {
   "cell_type": "markdown",
   "metadata": {},
   "source": [
    "# Batch size\n",
    "<strong> we have used 32 as batch size for our chosen function, now we have to decide whether a bigger batch size is better or a smaller batch size.<br>\n",
    "In general, smaller batches perform better on training data but may lead to overfitting and is also much slower in larger values, Small batch size can converge faster than a large batch, large batch size, allows faster computation and learning process, but a large batch reaches a minima that a small batch might not reach, and also a smaller batch needs a smaller learning rate to avoid over shooting the goal. in the large batch we will have a better average error than small batches.</strong>"
   ]
  },
  {
   "cell_type": "code",
   "execution_count": 26,
   "metadata": {},
   "outputs": [
    {
     "name": "stdout",
     "output_type": "stream",
     "text": [
      "Epoch 1:\n",
      "\tTrain: Average Accuracy: 70.05333333333333\tAverage Loss: 0.8313551624017236\n",
      "\tTest: Average Accuracy: 80.15\tAverage Loss: 0.5630052265205208\n",
      "Epoch 2:\n",
      "\tTrain: Average Accuracy: 82.425\tAverage Loss: 0.5031439621820166\n",
      "\tTest: Average Accuracy: 82.79\tAverage Loss: 0.4956312698698989\n",
      "Epoch 3:\n",
      "\tTrain: Average Accuracy: 84.03166666666667\tAverage Loss: 0.4603143335303628\n",
      "\tTest: Average Accuracy: 83.71\tAverage Loss: 0.47189564697445546\n",
      "Epoch 4:\n",
      "\tTrain: Average Accuracy: 84.78666666666666\tAverage Loss: 0.4373235416245079\n",
      "\tTest: Average Accuracy: 83.87\tAverage Loss: 0.4574293077860086\n",
      "Epoch 5:\n",
      "\tTrain: Average Accuracy: 85.37666666666667\tAverage Loss: 0.4204755427164473\n",
      "\tTest: Average Accuracy: 84.12\tAverage Loss: 0.4481778292017846\n",
      "Epoch 6:\n",
      "\tTrain: Average Accuracy: 85.85333333333334\tAverage Loss: 0.4063057687862575\n",
      "\tTest: Average Accuracy: 84.56\tAverage Loss: 0.4378960662926387\n",
      "Epoch 7:\n",
      "\tTrain: Average Accuracy: 86.20666666666666\tAverage Loss: 0.39421229908194083\n",
      "\tTest: Average Accuracy: 84.76\tAverage Loss: 0.42930416086336354\n",
      "Epoch 8:\n",
      "\tTrain: Average Accuracy: 86.54\tAverage Loss: 0.3836089403785423\n",
      "\tTest: Average Accuracy: 85.16\tAverage Loss: 0.41926938909322436\n",
      "Epoch 9:\n",
      "\tTrain: Average Accuracy: 86.945\tAverage Loss: 0.3744057944479509\n",
      "\tTest: Average Accuracy: 85.32\tAverage Loss: 0.4144172384177884\n",
      "Epoch 10:\n",
      "\tTrain: Average Accuracy: 87.16333333333333\tAverage Loss: 0.36662045489851786\n",
      "\tTest: Average Accuracy: 85.52\tAverage Loss: 0.4088726047054065\n",
      "Epoch 11:\n",
      "\tTrain: Average Accuracy: 87.39\tAverage Loss: 0.35958486199542433\n",
      "\tTest: Average Accuracy: 85.58\tAverage Loss: 0.40711087580528077\n",
      "Epoch 12:\n",
      "\tTrain: Average Accuracy: 87.60666666666667\tAverage Loss: 0.3536414724522807\n",
      "\tTest: Average Accuracy: 85.62\tAverage Loss: 0.4028755133361699\n",
      "Epoch 13:\n",
      "\tTrain: Average Accuracy: 87.755\tAverage Loss: 0.3479281999354966\n",
      "\tTest: Average Accuracy: 85.74\tAverage Loss: 0.4001033724775578\n",
      "Epoch 14:\n",
      "\tTrain: Average Accuracy: 87.90833333333333\tAverage Loss: 0.3428878941691291\n",
      "\tTest: Average Accuracy: 85.92\tAverage Loss: 0.3992638201624586\n",
      "Epoch 15:\n",
      "\tTrain: Average Accuracy: 88.03\tAverage Loss: 0.33823044864278784\n",
      "\tTest: Average Accuracy: 86.01\tAverage Loss: 0.39772330248167015\n",
      "Epoch 16:\n",
      "\tTrain: Average Accuracy: 88.16166666666666\tAverage Loss: 0.33406927572702894\n",
      "\tTest: Average Accuracy: 85.97\tAverage Loss: 0.39744727481179554\n",
      "Epoch 17:\n",
      "\tTrain: Average Accuracy: 88.30166666666666\tAverage Loss: 0.33032915099383137\n",
      "\tTest: Average Accuracy: 85.94\tAverage Loss: 0.3967823562176097\n",
      "Epoch 18:\n",
      "\tTrain: Average Accuracy: 88.42833333333333\tAverage Loss: 0.32686742423474124\n",
      "\tTest: Average Accuracy: 85.93\tAverage Loss: 0.3960784158022413\n",
      "Epoch 19:\n",
      "\tTrain: Average Accuracy: 88.54666666666667\tAverage Loss: 0.32384115035404964\n",
      "\tTest: Average Accuracy: 86.0\tAverage Loss: 0.3957426479872828\n",
      "Epoch 20:\n",
      "\tTrain: Average Accuracy: 88.695\tAverage Loss: 0.32076646427853145\n",
      "\tTest: Average Accuracy: 86.1\tAverage Loss: 0.3953373406922423\n",
      "Epoch 21:\n",
      "\tTrain: Average Accuracy: 88.755\tAverage Loss: 0.3180523772554343\n",
      "\tTest: Average Accuracy: 86.2\tAverage Loss: 0.3963502788969819\n",
      "Epoch 22:\n",
      "\tTrain: Average Accuracy: 88.83166666666666\tAverage Loss: 0.31551879298585056\n",
      "\tTest: Average Accuracy: 86.25\tAverage Loss: 0.39632936493277265\n",
      "Epoch 23:\n",
      "\tTrain: Average Accuracy: 88.91333333333333\tAverage Loss: 0.3130730775460887\n",
      "\tTest: Average Accuracy: 86.27\tAverage Loss: 0.39508693816463125\n",
      "Epoch 24:\n",
      "\tTrain: Average Accuracy: 88.92333333333333\tAverage Loss: 0.3108365046158747\n",
      "\tTest: Average Accuracy: 86.35\tAverage Loss: 0.39354312910507133\n",
      "Epoch 25:\n",
      "\tTrain: Average Accuracy: 88.995\tAverage Loss: 0.3084663868423214\n",
      "\tTest: Average Accuracy: 86.42\tAverage Loss: 0.39270682940203566\n",
      "Epoch 26:\n",
      "\tTrain: Average Accuracy: 89.09833333333333\tAverage Loss: 0.30639561086905415\n",
      "\tTest: Average Accuracy: 86.41\tAverage Loss: 0.39248067410730497\n",
      "Epoch 27:\n",
      "\tTrain: Average Accuracy: 89.18\tAverage Loss: 0.30449737197317533\n",
      "\tTest: Average Accuracy: 86.36\tAverage Loss: 0.3935093953306165\n",
      "Epoch 28:\n",
      "\tTrain: Average Accuracy: 89.25333333333333\tAverage Loss: 0.3026329756781415\n",
      "\tTest: Average Accuracy: 86.39\tAverage Loss: 0.3936804118867985\n",
      "Epoch 29:\n",
      "\tTrain: Average Accuracy: 89.34166666666667\tAverage Loss: 0.3007735371285302\n",
      "\tTest: Average Accuracy: 86.34\tAverage Loss: 0.3937666713072599\n",
      "Epoch 30:\n",
      "\tTrain: Average Accuracy: 89.39166666666667\tAverage Loss: 0.2990859018897639\n",
      "\tTest: Average Accuracy: 86.43\tAverage Loss: 0.39309743458644514\n"
     ]
    }
   ],
   "source": [
    "INPUT_SHAPE = 784\n",
    "LEARNING_RATE = 0.001\n",
    "EPOCHS = 30\n",
    "TRAINLOADER = []\n",
    "train_loader = Dataloader(trainData, trainLabels, 10, batch_size=16, shuffle=True)\n",
    "for i in train_loader:\n",
    "    TRAINLOADER.append(i)\n",
    "TESTLOADER = []\n",
    "test_loader = Dataloader(testData, testLabels, 10, batch_size=16, shuffle=True)\n",
    "for i in test_loader:\n",
    "    TESTLOADER.append(i)\n",
    "\n",
    "network = FeedForwardNN(INPUT_SHAPE)\n",
    "network.add_layer(20, input_shape=INPUT_SHAPE, activation=Relu(), initial_weight='uniform')\n",
    "network.add_layer(10, activation=Identical(), initial_weight='uniform')\n",
    "network.set_training_param(loss=CrossEntropy(), lr=LEARNING_RATE)\n",
    "\n",
    "log = network.fit(EPOCHS, TRAINLOADER, TESTLOADER)\n",
    "\n"
   ]
  },
  {
   "cell_type": "code",
   "execution_count": 27,
   "metadata": {},
   "outputs": [
    {
     "name": "stdout",
     "output_type": "stream",
     "text": [
      "Epoch 1:\n",
      "\tTrain: Average Accuracy: 37.86924751243781\tAverage Loss: 1.625802207814398\n",
      "\tTest: Average Accuracy: 54.83583860759494\tAverage Loss: 1.1162685463739788\n",
      "Epoch 2:\n",
      "\tTrain: Average Accuracy: 56.6342395167022\tAverage Loss: 1.0293290963414867\n",
      "\tTest: Average Accuracy: 58.03995253164557\tAverage Loss: 0.9860904232403991\n",
      "Epoch 3:\n",
      "\tTrain: Average Accuracy: 68.89880952380952\tAverage Loss: 0.80699210048111\n",
      "\tTest: Average Accuracy: 71.07397151898734\tAverage Loss: 0.70555892362479\n",
      "Epoch 4:\n",
      "\tTrain: Average Accuracy: 73.0360474413646\tAverage Loss: 0.6708937420011066\n",
      "\tTest: Average Accuracy: 74.88132911392405\tAverage Loss: 0.6550524238053491\n",
      "Epoch 5:\n",
      "\tTrain: Average Accuracy: 75.19267501776831\tAverage Loss: 0.6393144885746713\n",
      "\tTest: Average Accuracy: 75.87025316455696\tAverage Loss: 0.6347100554426423\n",
      "Epoch 6:\n",
      "\tTrain: Average Accuracy: 76.62635483297797\tAverage Loss: 0.6183854168503204\n",
      "\tTest: Average Accuracy: 77.72943037974683\tAverage Loss: 0.6122677451001707\n",
      "Epoch 7:\n",
      "\tTrain: Average Accuracy: 78.48925017768302\tAverage Loss: 0.597429889219709\n",
      "\tTest: Average Accuracy: 79.53916139240506\tAverage Loss: 0.5886435161929234\n",
      "Epoch 8:\n",
      "\tTrain: Average Accuracy: 79.99400319829424\tAverage Loss: 0.5716065929446932\n",
      "\tTest: Average Accuracy: 79.91495253164557\tAverage Loss: 0.5790351361301533\n",
      "Epoch 9:\n",
      "\tTrain: Average Accuracy: 80.81190031982942\tAverage Loss: 0.5510857328477374\n",
      "\tTest: Average Accuracy: 80.85443037974683\tAverage Loss: 0.5607670694494993\n",
      "Epoch 10:\n",
      "\tTrain: Average Accuracy: 81.36993603411514\tAverage Loss: 0.5378340577150198\n",
      "\tTest: Average Accuracy: 81.26977848101266\tAverage Loss: 0.5490381591936107\n",
      "Epoch 11:\n",
      "\tTrain: Average Accuracy: 81.75695184790334\tAverage Loss: 0.5274343507422937\n",
      "\tTest: Average Accuracy: 81.46756329113924\tAverage Loss: 0.5430129545697747\n",
      "Epoch 12:\n",
      "\tTrain: Average Accuracy: 82.11176261549396\tAverage Loss: 0.5185587950329011\n",
      "\tTest: Average Accuracy: 81.80379746835443\tAverage Loss: 0.5348367353419562\n",
      "Epoch 13:\n",
      "\tTrain: Average Accuracy: 82.33664267945984\tAverage Loss: 0.510748385564251\n",
      "\tTest: Average Accuracy: 82.01147151898734\tAverage Loss: 0.5301138349550341\n",
      "Epoch 14:\n",
      "\tTrain: Average Accuracy: 82.56707533759773\tAverage Loss: 0.5041317022852928\n",
      "\tTest: Average Accuracy: 82.1993670886076\tAverage Loss: 0.5233257164842582\n",
      "Epoch 15:\n",
      "\tTrain: Average Accuracy: 82.67257462686567\tAverage Loss: 0.4989725274137578\n",
      "\tTest: Average Accuracy: 82.28837025316456\tAverage Loss: 0.5220481816224826\n",
      "Epoch 16:\n",
      "\tTrain: Average Accuracy: 82.83637615493959\tAverage Loss: 0.4942855654705197\n",
      "\tTest: Average Accuracy: 82.34770569620254\tAverage Loss: 0.5214691924554768\n",
      "Epoch 17:\n",
      "\tTrain: Average Accuracy: 83.0168354655295\tAverage Loss: 0.4898452802736073\n",
      "\tTest: Average Accuracy: 82.45648734177215\tAverage Loss: 0.5187753437149736\n",
      "Epoch 18:\n",
      "\tTrain: Average Accuracy: 83.07680348258707\tAverage Loss: 0.48581421557931137\n",
      "\tTest: Average Accuracy: 82.52571202531645\tAverage Loss: 0.5160393156073227\n",
      "Epoch 19:\n",
      "\tTrain: Average Accuracy: 83.18507906894101\tAverage Loss: 0.48203811291984294\n",
      "\tTest: Average Accuracy: 82.72349683544304\tAverage Loss: 0.5127521909294871\n",
      "Epoch 20:\n",
      "\tTrain: Average Accuracy: 83.33000177683014\tAverage Loss: 0.47802341095888956\n",
      "\tTest: Average Accuracy: 82.69382911392405\tAverage Loss: 0.5120115429577777\n",
      "Epoch 21:\n",
      "\tTrain: Average Accuracy: 83.47603500355366\tAverage Loss: 0.47415718981751975\n",
      "\tTest: Average Accuracy: 82.86194620253164\tAverage Loss: 0.507642085537782\n",
      "Epoch 22:\n",
      "\tTrain: Average Accuracy: 83.68980987917556\tAverage Loss: 0.467566272551845\n",
      "\tTest: Average Accuracy: 83.07950949367088\tAverage Loss: 0.5010997648238802\n",
      "Epoch 23:\n",
      "\tTrain: Average Accuracy: 84.09292821606255\tAverage Loss: 0.45498479340163545\n",
      "\tTest: Average Accuracy: 83.19818037974683\tAverage Loss: 0.4912650161976727\n",
      "Epoch 24:\n",
      "\tTrain: Average Accuracy: 84.3744447405828\tAverage Loss: 0.44424305086018706\n",
      "\tTest: Average Accuracy: 83.58386075949367\tAverage Loss: 0.48516158119326297\n",
      "Epoch 25:\n",
      "\tTrain: Average Accuracy: 84.65207444918265\tAverage Loss: 0.4366572230768593\n",
      "\tTest: Average Accuracy: 83.71242088607595\tAverage Loss: 0.4797526693366551\n",
      "Epoch 26:\n",
      "\tTrain: Average Accuracy: 84.85974147121536\tAverage Loss: 0.4308067150508282\n",
      "\tTest: Average Accuracy: 83.87064873417721\tAverage Loss: 0.4757089163174682\n",
      "Epoch 27:\n",
      "\tTrain: Average Accuracy: 84.9791222459133\tAverage Loss: 0.4263414771585896\n",
      "\tTest: Average Accuracy: 84.07832278481013\tAverage Loss: 0.4730960167626449\n",
      "Epoch 28:\n",
      "\tTrain: Average Accuracy: 85.18234719260839\tAverage Loss: 0.4222022334196399\n",
      "\tTest: Average Accuracy: 84.09810126582279\tAverage Loss: 0.46938994030523645\n",
      "Epoch 29:\n",
      "\tTrain: Average Accuracy: 85.31061211798152\tAverage Loss: 0.4188244117186516\n",
      "\tTest: Average Accuracy: 84.1376582278481\tAverage Loss: 0.46706947939818594\n",
      "Epoch 30:\n",
      "\tTrain: Average Accuracy: 85.38612739872069\tAverage Loss: 0.4153685348413713\n",
      "\tTest: Average Accuracy: 84.18710443037975\tAverage Loss: 0.4646782730973738\n"
     ]
    }
   ],
   "source": [
    "\n",
    "\n",
    "INPUT_SHAPE = 784\n",
    "LEARNING_RATE = 0.001\n",
    "EPOCHS = 30\n",
    "TRAINLOADER = []\n",
    "train_loader = Dataloader(trainData, trainLabels, 10, batch_size=128, shuffle=True)\n",
    "for i in train_loader:\n",
    "    TRAINLOADER.append(i)\n",
    "TESTLOADER = []\n",
    "test_loader = Dataloader(testData, testLabels, 10, batch_size=128, shuffle=True)\n",
    "for i in test_loader:\n",
    "    TESTLOADER.append(i)\n",
    "\n",
    "network = FeedForwardNN(INPUT_SHAPE)\n",
    "network.add_layer(20, input_shape=INPUT_SHAPE, activation=Relu(), initial_weight='uniform')\n",
    "network.add_layer(10, activation=Identical(), initial_weight='uniform')\n",
    "network.set_training_param(loss=CrossEntropy(), lr=LEARNING_RATE)\n",
    "\n",
    "log = network.fit(EPOCHS, TRAINLOADER, TESTLOADER)\n",
    "\n"
   ]
  },
  {
   "cell_type": "markdown",
   "metadata": {},
   "source": [
    "<strong> as we can see the 32 batch size we used has slightly higher accuracy than both of the larger ans smaller batch sizes, in the larger batch size we almost reach the value which we reached with 32 batch size, but at a higher speed, and in the smaller batch size we almost reached the goal because of the small learning rate we used.\n",
    "<br> so we decided to use the Relu function with 0.001 learning rate and 32 batch size<strong>"
   ]
  },
  {
   "cell_type": "markdown",
   "metadata": {},
   "source": [
    "## Overfitting\n",
    "<strong>In statistics, overfitting is \"the production of an analysis that corresponds too closely or exactly to a particular set of data, and may therefore fail to fit additional data or predict future observations reliably\".<br>\n",
    "the solution to avoid overfitting is called early-stopping.</strong>"
   ]
  },
  {
   "cell_type": "code",
   "execution_count": 28,
   "metadata": {
    "scrolled": false
   },
   "outputs": [
    {
     "name": "stdout",
     "output_type": "stream",
     "text": [
      "Epoch 1:\n",
      "\tTrain: Average Accuracy: 69.94\tAverage Loss: 0.8417098814601635\n",
      "\tTest: Average Accuracy: 77.22643769968052\tAverage Loss: 0.6290083377695506\n",
      "Epoch 2:\n",
      "\tTrain: Average Accuracy: 82.53166666666667\tAverage Loss: 0.4997539234957296\n",
      "\tTest: Average Accuracy: 81.41972843450479\tAverage Loss: 0.5238964322281514\n",
      "Epoch 3:\n",
      "\tTrain: Average Accuracy: 84.29333333333334\tAverage Loss: 0.451544969878727\n",
      "\tTest: Average Accuracy: 82.76757188498402\tAverage Loss: 0.4848711445697298\n",
      "Epoch 4:\n",
      "\tTrain: Average Accuracy: 85.195\tAverage Loss: 0.42566792889472843\n",
      "\tTest: Average Accuracy: 83.37659744408946\tAverage Loss: 0.464970521173019\n",
      "Epoch 5:\n",
      "\tTrain: Average Accuracy: 85.725\tAverage Loss: 0.40894846099314863\n",
      "\tTest: Average Accuracy: 83.8258785942492\tAverage Loss: 0.4542496628229925\n",
      "Epoch 6:\n",
      "\tTrain: Average Accuracy: 86.13333333333334\tAverage Loss: 0.39652620208544526\n",
      "\tTest: Average Accuracy: 84.34504792332268\tAverage Loss: 0.4441544522635337\n",
      "Epoch 7:\n",
      "\tTrain: Average Accuracy: 86.39666666666666\tAverage Loss: 0.38673810680166265\n",
      "\tTest: Average Accuracy: 84.41493610223642\tAverage Loss: 0.4398958077537094\n",
      "Epoch 8:\n",
      "\tTrain: Average Accuracy: 86.62666666666667\tAverage Loss: 0.3785981465615748\n",
      "\tTest: Average Accuracy: 84.754392971246\tAverage Loss: 0.43408397030047974\n",
      "Epoch 9:\n",
      "\tTrain: Average Accuracy: 86.86833333333334\tAverage Loss: 0.3714679580074742\n",
      "\tTest: Average Accuracy: 84.68450479233226\tAverage Loss: 0.4338963749592679\n",
      "Epoch 10:\n",
      "\tTrain: Average Accuracy: 87.06333333333333\tAverage Loss: 0.36497310000578054\n",
      "\tTest: Average Accuracy: 84.78434504792332\tAverage Loss: 0.4296729211422051\n",
      "Epoch 11:\n",
      "\tTrain: Average Accuracy: 87.19666666666667\tAverage Loss: 0.35915036965692426\n",
      "\tTest: Average Accuracy: 84.83426517571885\tAverage Loss: 0.4264644409588747\n",
      "Epoch 12:\n",
      "\tTrain: Average Accuracy: 87.27833333333334\tAverage Loss: 0.35371841921217345\n",
      "\tTest: Average Accuracy: 84.87420127795527\tAverage Loss: 0.42249171687619447\n",
      "Epoch 13:\n",
      "\tTrain: Average Accuracy: 87.43166666666667\tAverage Loss: 0.348701693498947\n",
      "\tTest: Average Accuracy: 85.08386581469648\tAverage Loss: 0.4199850193950707\n",
      "Epoch 14:\n",
      "\tTrain: Average Accuracy: 87.57333333333334\tAverage Loss: 0.34392206530309655\n",
      "\tTest: Average Accuracy: 85.28354632587859\tAverage Loss: 0.41754792131154717\n",
      "Epoch 15:\n",
      "\tTrain: Average Accuracy: 87.71833333333333\tAverage Loss: 0.3397407014061396\n",
      "\tTest: Average Accuracy: 85.36341853035144\tAverage Loss: 0.4156436298751803\n",
      "Epoch 16:\n",
      "\tTrain: Average Accuracy: 87.82\tAverage Loss: 0.3357608380726422\n",
      "\tTest: Average Accuracy: 85.55311501597444\tAverage Loss: 0.4121474393467549\n",
      "Epoch 17:\n",
      "\tTrain: Average Accuracy: 87.925\tAverage Loss: 0.33231214450511226\n",
      "\tTest: Average Accuracy: 85.4932108626198\tAverage Loss: 0.41175341506167534\n",
      "Epoch 18:\n",
      "\tTrain: Average Accuracy: 88.03833333333333\tAverage Loss: 0.32910264962922436\n",
      "\tTest: Average Accuracy: 85.58306709265176\tAverage Loss: 0.41066729047291256\n",
      "Epoch 19:\n",
      "\tTrain: Average Accuracy: 88.19166666666666\tAverage Loss: 0.32600647053493265\n",
      "\tTest: Average Accuracy: 85.76277955271566\tAverage Loss: 0.4099909117745656\n",
      "Epoch 20:\n",
      "\tTrain: Average Accuracy: 88.305\tAverage Loss: 0.3231072843137167\n",
      "\tTest: Average Accuracy: 85.8326677316294\tAverage Loss: 0.406305736788121\n",
      "Epoch 21:\n",
      "\tTrain: Average Accuracy: 88.43166666666667\tAverage Loss: 0.32038706191928795\n",
      "\tTest: Average Accuracy: 85.89257188498402\tAverage Loss: 0.40517537796395\n",
      "Epoch 22:\n",
      "\tTrain: Average Accuracy: 88.54333333333334\tAverage Loss: 0.3178686225590267\n",
      "\tTest: Average Accuracy: 86.0223642172524\tAverage Loss: 0.40423744770115905\n",
      "Epoch 23:\n",
      "\tTrain: Average Accuracy: 88.60166666666667\tAverage Loss: 0.3155356241422132\n",
      "\tTest: Average Accuracy: 86.0123801916933\tAverage Loss: 0.4044801139228711\n",
      "Epoch 24:\n",
      "\tTrain: Average Accuracy: 88.735\tAverage Loss: 0.31312230643599365\n",
      "\tTest: Average Accuracy: 86.07228434504792\tAverage Loss: 0.40396732099073396\n",
      "Epoch 25:\n",
      "\tTrain: Average Accuracy: 88.795\tAverage Loss: 0.31110262789492604\n",
      "\tTest: Average Accuracy: 86.0123801916933\tAverage Loss: 0.4041679666046648\n",
      "Epoch 26:\n",
      "\tTrain: Average Accuracy: 88.86\tAverage Loss: 0.3089192585567808\n",
      "\tTest: Average Accuracy: 86.08226837060703\tAverage Loss: 0.4043242560125214\n",
      "Epoch 27:\n",
      "\tTrain: Average Accuracy: 88.97\tAverage Loss: 0.3069421965806533\n",
      "\tTest: Average Accuracy: 86.09225239616613\tAverage Loss: 0.40459239086912585\n",
      "Epoch 28:\n",
      "\tTrain: Average Accuracy: 89.07166666666667\tAverage Loss: 0.30482732954477354\n",
      "\tTest: Average Accuracy: 86.06230031948881\tAverage Loss: 0.4054526304091188\n",
      "Epoch 29:\n",
      "\tTrain: Average Accuracy: 89.14\tAverage Loss: 0.3030134012218172\n",
      "\tTest: Average Accuracy: 86.08226837060703\tAverage Loss: 0.40529611530480036\n",
      "Epoch 30:\n",
      "\tTrain: Average Accuracy: 89.17833333333333\tAverage Loss: 0.30115804325846524\n",
      "\tTest: Average Accuracy: 86.12220447284345\tAverage Loss: 0.40571973496198144\n",
      "Epoch 31:\n",
      "\tTrain: Average Accuracy: 89.235\tAverage Loss: 0.2993873799432533\n",
      "\tTest: Average Accuracy: 86.10223642172524\tAverage Loss: 0.4048370267883392\n",
      "Epoch 32:\n",
      "\tTrain: Average Accuracy: 89.27666666666667\tAverage Loss: 0.29757850244506134\n",
      "\tTest: Average Accuracy: 86.0423322683706\tAverage Loss: 0.40448612874039047\n",
      "Epoch 33:\n",
      "\tTrain: Average Accuracy: 89.32\tAverage Loss: 0.29582242203083575\n",
      "\tTest: Average Accuracy: 86.15215654952077\tAverage Loss: 0.40344291172488483\n",
      "Epoch 34:\n",
      "\tTrain: Average Accuracy: 89.41166666666666\tAverage Loss: 0.29411481835995246\n",
      "\tTest: Average Accuracy: 86.17212460063898\tAverage Loss: 0.40311438688895457\n",
      "Epoch 35:\n",
      "\tTrain: Average Accuracy: 89.435\tAverage Loss: 0.29254210712077267\n",
      "\tTest: Average Accuracy: 86.18210862619809\tAverage Loss: 0.4035311269983909\n",
      "Epoch 36:\n",
      "\tTrain: Average Accuracy: 89.49833333333333\tAverage Loss: 0.290863860591119\n",
      "\tTest: Average Accuracy: 86.08226837060703\tAverage Loss: 0.4033269242618168\n",
      "Epoch 37:\n",
      "\tTrain: Average Accuracy: 89.54333333333334\tAverage Loss: 0.2894159791821799\n",
      "\tTest: Average Accuracy: 86.16214057507987\tAverage Loss: 0.40116356976711764\n",
      "Epoch 38:\n",
      "\tTrain: Average Accuracy: 89.645\tAverage Loss: 0.287873750541247\n",
      "\tTest: Average Accuracy: 86.24201277955271\tAverage Loss: 0.40127181143896284\n",
      "Epoch 39:\n",
      "\tTrain: Average Accuracy: 89.70333333333333\tAverage Loss: 0.2865109059453572\n",
      "\tTest: Average Accuracy: 86.30191693290735\tAverage Loss: 0.4005651469707745\n",
      "Epoch 40:\n",
      "\tTrain: Average Accuracy: 89.735\tAverage Loss: 0.28514363491183514\n",
      "\tTest: Average Accuracy: 86.35183706070288\tAverage Loss: 0.40046264758672917\n",
      "Epoch 41:\n",
      "\tTrain: Average Accuracy: 89.785\tAverage Loss: 0.28379953652206713\n",
      "\tTest: Average Accuracy: 86.30191693290735\tAverage Loss: 0.4015793208170828\n",
      "Epoch 42:\n",
      "\tTrain: Average Accuracy: 89.805\tAverage Loss: 0.2823788506235909\n",
      "\tTest: Average Accuracy: 86.25199680511182\tAverage Loss: 0.40184011246677076\n",
      "Epoch 43:\n",
      "\tTrain: Average Accuracy: 89.87\tAverage Loss: 0.2811636002750857\n",
      "\tTest: Average Accuracy: 86.33186900958466\tAverage Loss: 0.40199279563922985\n",
      "Epoch 44:\n",
      "\tTrain: Average Accuracy: 89.96\tAverage Loss: 0.27988013905910253\n",
      "\tTest: Average Accuracy: 86.31190095846645\tAverage Loss: 0.40242558337819084\n",
      "Epoch 45:\n",
      "\tTrain: Average Accuracy: 90.01\tAverage Loss: 0.278588831282747\n",
      "\tTest: Average Accuracy: 86.31190095846645\tAverage Loss: 0.40355022182270184\n",
      "Epoch 46:\n",
      "\tTrain: Average Accuracy: 90.115\tAverage Loss: 0.2772924207842609\n",
      "\tTest: Average Accuracy: 86.32188498402556\tAverage Loss: 0.40295098307559846\n",
      "Epoch 47:\n",
      "\tTrain: Average Accuracy: 90.1\tAverage Loss: 0.2761195669923439\n",
      "\tTest: Average Accuracy: 86.34185303514377\tAverage Loss: 0.40406097506179545\n",
      "Epoch 48:\n",
      "\tTrain: Average Accuracy: 90.19666666666667\tAverage Loss: 0.2749045875060274\n",
      "\tTest: Average Accuracy: 86.35183706070288\tAverage Loss: 0.40512879138354013\n",
      "Epoch 49:\n",
      "\tTrain: Average Accuracy: 90.20666666666666\tAverage Loss: 0.27372726011856713\n",
      "\tTest: Average Accuracy: 86.36182108626198\tAverage Loss: 0.40612498286997467\n",
      "Epoch 50:\n",
      "\tTrain: Average Accuracy: 90.24833333333333\tAverage Loss: 0.2727301643648603\n",
      "\tTest: Average Accuracy: 86.32188498402556\tAverage Loss: 0.4063071847013811\n",
      "Epoch 51:\n",
      "\tTrain: Average Accuracy: 90.29\tAverage Loss: 0.2716783889321233\n",
      "\tTest: Average Accuracy: 86.34185303514377\tAverage Loss: 0.40661316433997413\n",
      "Epoch 52:\n",
      "\tTrain: Average Accuracy: 90.29666666666667\tAverage Loss: 0.270639241561273\n",
      "\tTest: Average Accuracy: 86.32188498402556\tAverage Loss: 0.40758478153483974\n",
      "Epoch 53:\n"
     ]
    },
    {
     "name": "stdout",
     "output_type": "stream",
     "text": [
      "\tTrain: Average Accuracy: 90.34833333333333\tAverage Loss: 0.26967004493405383\n",
      "\tTest: Average Accuracy: 86.36182108626198\tAverage Loss: 0.40799596286732615\n",
      "Epoch 54:\n",
      "\tTrain: Average Accuracy: 90.43\tAverage Loss: 0.2683918292664522\n",
      "\tTest: Average Accuracy: 86.36182108626198\tAverage Loss: 0.4069994189368199\n",
      "Epoch 55:\n",
      "\tTrain: Average Accuracy: 90.46\tAverage Loss: 0.2673417089216753\n",
      "\tTest: Average Accuracy: 86.41174121405751\tAverage Loss: 0.4090190055190062\n",
      "Epoch 56:\n",
      "\tTrain: Average Accuracy: 90.46833333333333\tAverage Loss: 0.26636079383110245\n",
      "\tTest: Average Accuracy: 86.35183706070288\tAverage Loss: 0.4099240287085873\n",
      "Epoch 57:\n",
      "\tTrain: Average Accuracy: 90.515\tAverage Loss: 0.26537545738974955\n",
      "\tTest: Average Accuracy: 86.36182108626198\tAverage Loss: 0.41027118473527846\n",
      "Epoch 58:\n",
      "\tTrain: Average Accuracy: 90.565\tAverage Loss: 0.2644383946632057\n",
      "\tTest: Average Accuracy: 86.49161341853035\tAverage Loss: 0.4101294916997642\n",
      "Epoch 59:\n",
      "\tTrain: Average Accuracy: 90.60666666666667\tAverage Loss: 0.263481048428473\n",
      "\tTest: Average Accuracy: 86.43170926517571\tAverage Loss: 0.40992145263779073\n",
      "Epoch 60:\n",
      "\tTrain: Average Accuracy: 90.66166666666666\tAverage Loss: 0.2624878414355342\n",
      "\tTest: Average Accuracy: 86.45167731629392\tAverage Loss: 0.4107514572745882\n",
      "Epoch 61:\n",
      "\tTrain: Average Accuracy: 90.67833333333333\tAverage Loss: 0.2615458246278909\n",
      "\tTest: Average Accuracy: 86.42172523961662\tAverage Loss: 0.41130191071491884\n",
      "Epoch 62:\n",
      "\tTrain: Average Accuracy: 90.72666666666667\tAverage Loss: 0.26083269417433574\n",
      "\tTest: Average Accuracy: 86.50159744408946\tAverage Loss: 0.4088377092105106\n",
      "Epoch 63:\n",
      "\tTrain: Average Accuracy: 90.765\tAverage Loss: 0.2598038829069587\n",
      "\tTest: Average Accuracy: 86.55151757188499\tAverage Loss: 0.410388340154222\n",
      "Epoch 64:\n",
      "\tTrain: Average Accuracy: 90.78166666666667\tAverage Loss: 0.25896222742189134\n",
      "\tTest: Average Accuracy: 86.53154952076677\tAverage Loss: 0.4117868417390788\n",
      "Epoch 65:\n",
      "\tTrain: Average Accuracy: 90.81833333333333\tAverage Loss: 0.25809146418047624\n",
      "\tTest: Average Accuracy: 86.5714856230032\tAverage Loss: 0.41236507698953373\n",
      "Epoch 66:\n",
      "\tTrain: Average Accuracy: 90.83\tAverage Loss: 0.2572991066906447\n",
      "\tTest: Average Accuracy: 86.49161341853035\tAverage Loss: 0.41303450762982213\n",
      "Epoch 67:\n",
      "\tTrain: Average Accuracy: 90.88333333333334\tAverage Loss: 0.25650669830049766\n",
      "\tTest: Average Accuracy: 86.48162939297124\tAverage Loss: 0.4140061952472246\n",
      "Epoch 68:\n",
      "\tTrain: Average Accuracy: 90.895\tAverage Loss: 0.25565901157793774\n",
      "\tTest: Average Accuracy: 86.60143769968052\tAverage Loss: 0.41477184875181805\n",
      "Epoch 69:\n",
      "\tTrain: Average Accuracy: 90.945\tAverage Loss: 0.25488866111981184\n",
      "\tTest: Average Accuracy: 86.55151757188499\tAverage Loss: 0.4154142359060974\n",
      "Epoch 70:\n",
      "\tTrain: Average Accuracy: 90.97333333333333\tAverage Loss: 0.2541158915309643\n",
      "\tTest: Average Accuracy: 86.60143769968052\tAverage Loss: 0.41640953736317365\n",
      "Epoch 71:\n",
      "\tTrain: Average Accuracy: 91.0\tAverage Loss: 0.2533791090996056\n",
      "\tTest: Average Accuracy: 86.49161341853035\tAverage Loss: 0.4157725772033395\n",
      "Epoch 72:\n",
      "\tTrain: Average Accuracy: 91.04833333333333\tAverage Loss: 0.2525947439612694\n",
      "\tTest: Average Accuracy: 86.53154952076677\tAverage Loss: 0.4164876317012701\n",
      "Epoch 73:\n",
      "\tTrain: Average Accuracy: 91.07166666666667\tAverage Loss: 0.25184868078805084\n",
      "\tTest: Average Accuracy: 86.53154952076677\tAverage Loss: 0.4181014443267605\n",
      "Epoch 74:\n",
      "\tTrain: Average Accuracy: 91.09333333333333\tAverage Loss: 0.25114115505981854\n",
      "\tTest: Average Accuracy: 86.52156549520767\tAverage Loss: 0.41866649995116345\n",
      "Epoch 75:\n",
      "\tTrain: Average Accuracy: 91.09666666666666\tAverage Loss: 0.25057032156431286\n",
      "\tTest: Average Accuracy: 86.40175718849841\tAverage Loss: 0.42027169158914596\n",
      "Epoch 76:\n",
      "\tTrain: Average Accuracy: 91.12666666666667\tAverage Loss: 0.24980693080002073\n",
      "\tTest: Average Accuracy: 86.46166134185303\tAverage Loss: 0.42215563699406317\n",
      "Epoch 77:\n",
      "\tTrain: Average Accuracy: 91.18333333333334\tAverage Loss: 0.24911000266664962\n",
      "\tTest: Average Accuracy: 86.42172523961662\tAverage Loss: 0.42325831858799584\n",
      "Epoch 78:\n",
      "\tTrain: Average Accuracy: 91.18333333333334\tAverage Loss: 0.24845192216317893\n",
      "\tTest: Average Accuracy: 86.43170926517571\tAverage Loss: 0.4259266311234905\n",
      "Epoch 79:\n",
      "\tTrain: Average Accuracy: 91.23\tAverage Loss: 0.24776088359913662\n",
      "\tTest: Average Accuracy: 86.44169329073482\tAverage Loss: 0.4252472645891193\n",
      "Epoch 80:\n",
      "\tTrain: Average Accuracy: 91.25\tAverage Loss: 0.24716898855643674\n",
      "\tTest: Average Accuracy: 86.49161341853035\tAverage Loss: 0.4266130863541359\n",
      "Epoch 81:\n",
      "\tTrain: Average Accuracy: 91.29166666666667\tAverage Loss: 0.24647409016990537\n",
      "\tTest: Average Accuracy: 86.48162939297124\tAverage Loss: 0.42615332029072167\n",
      "Epoch 82:\n",
      "\tTrain: Average Accuracy: 91.29666666666667\tAverage Loss: 0.24582062513170053\n",
      "\tTest: Average Accuracy: 86.37180511182109\tAverage Loss: 0.42944434371943885\n",
      "Epoch 83:\n",
      "\tTrain: Average Accuracy: 91.32166666666667\tAverage Loss: 0.2453264801405734\n",
      "\tTest: Average Accuracy: 86.29193290734824\tAverage Loss: 0.4307820118414005\n",
      "Epoch 84:\n",
      "\tTrain: Average Accuracy: 91.315\tAverage Loss: 0.2446138269641432\n",
      "\tTest: Average Accuracy: 86.54153354632588\tAverage Loss: 0.4290117444856359\n",
      "Epoch 85:\n",
      "\tTrain: Average Accuracy: 91.37833333333333\tAverage Loss: 0.24399847392965984\n",
      "\tTest: Average Accuracy: 86.32188498402556\tAverage Loss: 0.4319823428051656\n",
      "Epoch 86:\n",
      "\tTrain: Average Accuracy: 91.38666666666667\tAverage Loss: 0.24342130565972322\n",
      "\tTest: Average Accuracy: 86.2320287539936\tAverage Loss: 0.4354516835846473\n",
      "Epoch 87:\n",
      "\tTrain: Average Accuracy: 91.39166666666667\tAverage Loss: 0.24278310836781583\n",
      "\tTest: Average Accuracy: 86.32188498402556\tAverage Loss: 0.4360345118356378\n",
      "Epoch 88:\n",
      "\tTrain: Average Accuracy: 91.43\tAverage Loss: 0.24216223146687188\n",
      "\tTest: Average Accuracy: 86.32188498402556\tAverage Loss: 0.4330986136382092\n",
      "Epoch 89:\n",
      "\tTrain: Average Accuracy: 91.48\tAverage Loss: 0.24158516923524387\n",
      "\tTest: Average Accuracy: 86.36182108626198\tAverage Loss: 0.4347475699903123\n",
      "Epoch 90:\n",
      "\tTrain: Average Accuracy: 91.48\tAverage Loss: 0.24100916495491517\n",
      "\tTest: Average Accuracy: 86.35183706070288\tAverage Loss: 0.43588362338369624\n",
      "Epoch 91:\n",
      "\tTrain: Average Accuracy: 91.49\tAverage Loss: 0.24039265928419798\n",
      "\tTest: Average Accuracy: 86.30191693290735\tAverage Loss: 0.4428665450233781\n",
      "Epoch 92:\n",
      "\tTrain: Average Accuracy: 91.51666666666667\tAverage Loss: 0.2398533292873576\n",
      "\tTest: Average Accuracy: 86.31190095846645\tAverage Loss: 0.4362484923280619\n",
      "Epoch 93:\n",
      "\tTrain: Average Accuracy: 91.54333333333334\tAverage Loss: 0.23933964277519165\n",
      "\tTest: Average Accuracy: 86.29193290734824\tAverage Loss: 0.4427363929112476\n",
      "Epoch 94:\n",
      "\tTrain: Average Accuracy: 91.58166666666666\tAverage Loss: 0.23877800707610988\n",
      "\tTest: Average Accuracy: 86.34185303514377\tAverage Loss: 0.44245888102560604\n",
      "Epoch 95:\n",
      "\tTrain: Average Accuracy: 91.56666666666666\tAverage Loss: 0.2382646496725459\n",
      "\tTest: Average Accuracy: 86.25199680511182\tAverage Loss: 0.44389191966265723\n",
      "Epoch 96:\n",
      "\tTrain: Average Accuracy: 91.63333333333334\tAverage Loss: 0.237702671547785\n",
      "\tTest: Average Accuracy: 86.2020766773163\tAverage Loss: 0.44422899656018483\n",
      "Epoch 97:\n",
      "\tTrain: Average Accuracy: 91.64333333333333\tAverage Loss: 0.23704738332511952\n",
      "\tTest: Average Accuracy: 86.30191693290735\tAverage Loss: 0.4443684337327373\n",
      "Epoch 98:\n",
      "\tTrain: Average Accuracy: 91.65\tAverage Loss: 0.23670444092074133\n",
      "\tTest: Average Accuracy: 86.29193290734824\tAverage Loss: 0.4451228613402532\n",
      "Epoch 99:\n",
      "\tTrain: Average Accuracy: 91.67166666666667\tAverage Loss: 0.23618987099001928\n",
      "\tTest: Average Accuracy: 86.30191693290735\tAverage Loss: 0.44887741394384933\n",
      "Epoch 100:\n",
      "\tTrain: Average Accuracy: 91.68333333333334\tAverage Loss: 0.23558134518268314\n",
      "\tTest: Average Accuracy: 86.29193290734824\tAverage Loss: 0.44828379211881325\n",
      "Epoch 101:\n",
      "\tTrain: Average Accuracy: 91.68166666666667\tAverage Loss: 0.23501288122267797\n",
      "\tTest: Average Accuracy: 86.26198083067092\tAverage Loss: 0.44917852920443513\n",
      "Epoch 102:\n",
      "\tTrain: Average Accuracy: 91.725\tAverage Loss: 0.23467181220667596\n",
      "\tTest: Average Accuracy: 86.26198083067092\tAverage Loss: 0.4484600025864898\n",
      "Epoch 103:\n",
      "\tTrain: Average Accuracy: 91.745\tAverage Loss: 0.23407685541308038\n",
      "\tTest: Average Accuracy: 86.2020766773163\tAverage Loss: 0.45133428432142664\n",
      "Epoch 104:\n",
      "\tTrain: Average Accuracy: 91.745\tAverage Loss: 0.23367896165597202\n"
     ]
    },
    {
     "name": "stdout",
     "output_type": "stream",
     "text": [
      "\tTest: Average Accuracy: 86.29193290734824\tAverage Loss: 0.4494134152789234\n",
      "Epoch 105:\n",
      "\tTrain: Average Accuracy: 91.765\tAverage Loss: 0.23317593853809274\n",
      "\tTest: Average Accuracy: 86.2120607028754\tAverage Loss: 0.4537786678564411\n",
      "Epoch 106:\n",
      "\tTrain: Average Accuracy: 91.77166666666666\tAverage Loss: 0.23272954579481267\n",
      "\tTest: Average Accuracy: 86.26198083067092\tAverage Loss: 0.45117665991081934\n",
      "Epoch 107:\n",
      "\tTrain: Average Accuracy: 91.79833333333333\tAverage Loss: 0.2322435361772506\n",
      "\tTest: Average Accuracy: 86.24201277955271\tAverage Loss: 0.4544641698645631\n",
      "Epoch 108:\n",
      "\tTrain: Average Accuracy: 91.83\tAverage Loss: 0.23176704504413792\n",
      "\tTest: Average Accuracy: 86.13218849840256\tAverage Loss: 0.45212897864651946\n",
      "Epoch 109:\n",
      "\tTrain: Average Accuracy: 91.805\tAverage Loss: 0.23146318268755867\n",
      "\tTest: Average Accuracy: 86.15215654952077\tAverage Loss: 0.4554656776763615\n",
      "Epoch 110:\n",
      "\tTrain: Average Accuracy: 91.84\tAverage Loss: 0.23093887080718312\n",
      "\tTest: Average Accuracy: 86.2120607028754\tAverage Loss: 0.4583738035461792\n",
      "Epoch 111:\n",
      "\tTrain: Average Accuracy: 91.85833333333333\tAverage Loss: 0.23052536445424746\n",
      "\tTest: Average Accuracy: 86.24201277955271\tAverage Loss: 0.45793092333811836\n",
      "Epoch 112:\n",
      "\tTrain: Average Accuracy: 91.84333333333333\tAverage Loss: 0.2299324865503187\n",
      "\tTest: Average Accuracy: 86.24201277955271\tAverage Loss: 0.46045263746415716\n",
      "Epoch 113:\n",
      "\tTrain: Average Accuracy: 91.88333333333334\tAverage Loss: 0.2296199525020611\n",
      "\tTest: Average Accuracy: 86.2120607028754\tAverage Loss: 0.4591992453266919\n",
      "Epoch 114:\n",
      "\tTrain: Average Accuracy: 91.89333333333333\tAverage Loss: 0.22905329895402274\n",
      "\tTest: Average Accuracy: 86.24201277955271\tAverage Loss: 0.4586957163436262\n",
      "Epoch 115:\n",
      "\tTrain: Average Accuracy: 91.895\tAverage Loss: 0.22866750698380267\n",
      "\tTest: Average Accuracy: 86.14217252396166\tAverage Loss: 0.46184791825167343\n",
      "Epoch 116:\n",
      "\tTrain: Average Accuracy: 91.95333333333333\tAverage Loss: 0.2281539238192251\n",
      "\tTest: Average Accuracy: 86.03234824281151\tAverage Loss: 0.4665108619608044\n",
      "Epoch 117:\n",
      "\tTrain: Average Accuracy: 91.92166666666667\tAverage Loss: 0.22783031262088155\n",
      "\tTest: Average Accuracy: 86.11222044728434\tAverage Loss: 0.46501238468208217\n",
      "Epoch 118:\n",
      "\tTrain: Average Accuracy: 91.98333333333333\tAverage Loss: 0.22747398829608118\n",
      "\tTest: Average Accuracy: 86.12220447284345\tAverage Loss: 0.46381413490646717\n",
      "Epoch 119:\n",
      "\tTrain: Average Accuracy: 91.985\tAverage Loss: 0.22694193295392628\n",
      "\tTest: Average Accuracy: 86.09225239616613\tAverage Loss: 0.46761064597312935\n",
      "Epoch 120:\n",
      "\tTrain: Average Accuracy: 92.005\tAverage Loss: 0.22664139158240457\n",
      "\tTest: Average Accuracy: 86.0523162939297\tAverage Loss: 0.46838104230774413\n",
      "Epoch 121:\n",
      "\tTrain: Average Accuracy: 92.02833333333334\tAverage Loss: 0.22627106674451916\n",
      "\tTest: Average Accuracy: 86.11222044728434\tAverage Loss: 0.4716902579049117\n",
      "Epoch 122:\n",
      "\tTrain: Average Accuracy: 92.03333333333333\tAverage Loss: 0.2258990982442073\n",
      "\tTest: Average Accuracy: 86.10223642172524\tAverage Loss: 0.46829417101135556\n",
      "Epoch 123:\n",
      "\tTrain: Average Accuracy: 92.06166666666667\tAverage Loss: 0.22551875845054462\n",
      "\tTest: Average Accuracy: 85.97244408945687\tAverage Loss: 0.47103125465281426\n",
      "Epoch 124:\n",
      "\tTrain: Average Accuracy: 92.09166666666667\tAverage Loss: 0.2250789447850709\n",
      "\tTest: Average Accuracy: 86.06230031948881\tAverage Loss: 0.46888484796137286\n",
      "Epoch 125:\n",
      "\tTrain: Average Accuracy: 92.05666666666667\tAverage Loss: 0.22473984932316438\n",
      "\tTest: Average Accuracy: 85.97244408945687\tAverage Loss: 0.47338133112078495\n",
      "Epoch 126:\n",
      "\tTrain: Average Accuracy: 92.10333333333334\tAverage Loss: 0.22441427320634338\n",
      "\tTest: Average Accuracy: 85.84265175718849\tAverage Loss: 0.4784343639726864\n",
      "Epoch 127:\n",
      "\tTrain: Average Accuracy: 92.10833333333333\tAverage Loss: 0.22387958115266052\n",
      "\tTest: Average Accuracy: 86.09225239616613\tAverage Loss: 0.4726514504999582\n",
      "Epoch 128:\n",
      "\tTrain: Average Accuracy: 92.08333333333333\tAverage Loss: 0.22349066190239178\n",
      "\tTest: Average Accuracy: 86.00239616613419\tAverage Loss: 0.4736409280430419\n",
      "Epoch 129:\n",
      "\tTrain: Average Accuracy: 92.115\tAverage Loss: 0.22317729812660755\n",
      "\tTest: Average Accuracy: 86.08226837060703\tAverage Loss: 0.4740796706751545\n",
      "Epoch 130:\n",
      "\tTrain: Average Accuracy: 92.12\tAverage Loss: 0.22272691129853048\n",
      "\tTest: Average Accuracy: 86.00239616613419\tAverage Loss: 0.4771400752660183\n",
      "Epoch 131:\n",
      "\tTrain: Average Accuracy: 92.14833333333333\tAverage Loss: 0.22232917366494495\n",
      "\tTest: Average Accuracy: 86.19209265175719\tAverage Loss: 0.4775595891743372\n",
      "Epoch 132:\n",
      "\tTrain: Average Accuracy: 92.17166666666667\tAverage Loss: 0.22202759152079346\n",
      "\tTest: Average Accuracy: 85.94249201277955\tAverage Loss: 0.4785522974249591\n",
      "Epoch 133:\n",
      "\tTrain: Average Accuracy: 92.17833333333333\tAverage Loss: 0.22160202749889382\n",
      "\tTest: Average Accuracy: 85.97244408945687\tAverage Loss: 0.4780440003265758\n",
      "Epoch 134:\n",
      "\tTrain: Average Accuracy: 92.19166666666666\tAverage Loss: 0.22118709118993404\n",
      "\tTest: Average Accuracy: 86.27196485623003\tAverage Loss: 0.47180653641891596\n",
      "Epoch 135:\n",
      "\tTrain: Average Accuracy: 92.19166666666666\tAverage Loss: 0.22088297330073697\n",
      "\tTest: Average Accuracy: 86.0523162939297\tAverage Loss: 0.4806088704627138\n",
      "Epoch 136:\n",
      "\tTrain: Average Accuracy: 92.18833333333333\tAverage Loss: 0.2205473926566653\n",
      "\tTest: Average Accuracy: 86.24201277955271\tAverage Loss: 0.474311929202595\n",
      "Epoch 137:\n",
      "\tTrain: Average Accuracy: 92.22166666666666\tAverage Loss: 0.2201258233652526\n",
      "\tTest: Average Accuracy: 85.97244408945687\tAverage Loss: 0.48332324656734893\n",
      "Epoch 138:\n",
      "\tTrain: Average Accuracy: 92.22333333333333\tAverage Loss: 0.21996123314474553\n",
      "\tTest: Average Accuracy: 85.84265175718849\tAverage Loss: 0.48824871719278173\n",
      "Epoch 139:\n",
      "\tTrain: Average Accuracy: 92.22\tAverage Loss: 0.21954415175998473\n",
      "\tTest: Average Accuracy: 86.0523162939297\tAverage Loss: 0.4808202441716709\n",
      "Epoch 140:\n",
      "\tTrain: Average Accuracy: 92.27\tAverage Loss: 0.21916430994132427\n",
      "\tTest: Average Accuracy: 86.03234824281151\tAverage Loss: 0.479360178385778\n",
      "Epoch 141:\n",
      "\tTrain: Average Accuracy: 92.28833333333333\tAverage Loss: 0.2187976697605951\n",
      "\tTest: Average Accuracy: 85.8526357827476\tAverage Loss: 0.4871553381339445\n",
      "Epoch 142:\n",
      "\tTrain: Average Accuracy: 92.31\tAverage Loss: 0.21856844248752105\n",
      "\tTest: Average Accuracy: 85.88258785942492\tAverage Loss: 0.48864065180509064\n",
      "Epoch 143:\n",
      "\tTrain: Average Accuracy: 92.275\tAverage Loss: 0.2182310935383283\n",
      "\tTest: Average Accuracy: 85.81269968051119\tAverage Loss: 0.4904156660512639\n",
      "Epoch 144:\n",
      "\tTrain: Average Accuracy: 92.31833333333333\tAverage Loss: 0.21788731416141296\n",
      "\tTest: Average Accuracy: 85.71285942492013\tAverage Loss: 0.4947343084275654\n",
      "Epoch 145:\n",
      "\tTrain: Average Accuracy: 92.32\tAverage Loss: 0.21762167567453597\n",
      "\tTest: Average Accuracy: 85.8226837060703\tAverage Loss: 0.49080096264462547\n",
      "Epoch 146:\n",
      "\tTrain: Average Accuracy: 92.35333333333334\tAverage Loss: 0.21725531604736364\n",
      "\tTest: Average Accuracy: 85.97244408945687\tAverage Loss: 0.48526992255170326\n",
      "Epoch 147:\n",
      "\tTrain: Average Accuracy: 92.36666666666666\tAverage Loss: 0.2169392717215349\n",
      "\tTest: Average Accuracy: 85.8626198083067\tAverage Loss: 0.4883120016515596\n",
      "Epoch 148:\n",
      "\tTrain: Average Accuracy: 92.38\tAverage Loss: 0.21653829058054602\n",
      "\tTest: Average Accuracy: 86.0123801916933\tAverage Loss: 0.4857366254603295\n",
      "Epoch 149:\n",
      "\tTrain: Average Accuracy: 92.39333333333333\tAverage Loss: 0.21627251007917103\n",
      "\tTest: Average Accuracy: 85.96246006389777\tAverage Loss: 0.485252158020533\n",
      "Epoch 150:\n",
      "\tTrain: Average Accuracy: 92.37833333333333\tAverage Loss: 0.21604393950295608\n",
      "\tTest: Average Accuracy: 85.75279552715655\tAverage Loss: 0.4953181885513346\n",
      "Epoch 151:\n",
      "\tTrain: Average Accuracy: 92.38166666666666\tAverage Loss: 0.21565485707287715\n",
      "\tTest: Average Accuracy: 85.8526357827476\tAverage Loss: 0.49200231414029794\n",
      "Epoch 152:\n",
      "\tTrain: Average Accuracy: 92.39\tAverage Loss: 0.21538269340055527\n",
      "\tTest: Average Accuracy: 85.98242811501598\tAverage Loss: 0.4872753532957497\n",
      "Epoch 153:\n",
      "\tTrain: Average Accuracy: 92.405\tAverage Loss: 0.21501764456506967\n",
      "\tTest: Average Accuracy: 85.90255591054313\tAverage Loss: 0.49180715050984913\n",
      "Epoch 154:\n",
      "\tTrain: Average Accuracy: 92.41\tAverage Loss: 0.21482931862885069\n",
      "\tTest: Average Accuracy: 85.76277955271566\tAverage Loss: 0.5011774897472265\n",
      "Epoch 155:\n",
      "\tTrain: Average Accuracy: 92.43333333333334\tAverage Loss: 0.214478490228854\n"
     ]
    },
    {
     "name": "stdout",
     "output_type": "stream",
     "text": [
      "\tTest: Average Accuracy: 85.93250798722045\tAverage Loss: 0.4926739495813824\n",
      "Epoch 156:\n",
      "\tTrain: Average Accuracy: 92.435\tAverage Loss: 0.21418032961085184\n",
      "\tTest: Average Accuracy: 86.0123801916933\tAverage Loss: 0.4873537775365854\n",
      "Epoch 157:\n",
      "\tTrain: Average Accuracy: 92.45833333333333\tAverage Loss: 0.2137746086248141\n",
      "\tTest: Average Accuracy: 85.96246006389777\tAverage Loss: 0.4914245986756241\n",
      "Epoch 158:\n",
      "\tTrain: Average Accuracy: 92.43666666666667\tAverage Loss: 0.21364496867621716\n",
      "\tTest: Average Accuracy: 85.93250798722045\tAverage Loss: 0.4967845387936791\n",
      "Epoch 159:\n",
      "\tTrain: Average Accuracy: 92.455\tAverage Loss: 0.21315045096389082\n",
      "\tTest: Average Accuracy: 85.89257188498402\tAverage Loss: 0.49662648583439656\n",
      "Epoch 160:\n",
      "\tTrain: Average Accuracy: 92.505\tAverage Loss: 0.21299243785686062\n",
      "\tTest: Average Accuracy: 85.84265175718849\tAverage Loss: 0.4974602669387094\n",
      "Epoch 161:\n",
      "\tTrain: Average Accuracy: 92.46666666666667\tAverage Loss: 0.2126817535827614\n",
      "\tTest: Average Accuracy: 85.92252396166134\tAverage Loss: 0.4970148789361867\n",
      "Epoch 162:\n",
      "\tTrain: Average Accuracy: 92.53666666666666\tAverage Loss: 0.21232895000110663\n",
      "\tTest: Average Accuracy: 85.81269968051119\tAverage Loss: 0.4997239441119346\n",
      "Epoch 163:\n",
      "\tTrain: Average Accuracy: 92.52833333333334\tAverage Loss: 0.21200804962211192\n",
      "\tTest: Average Accuracy: 86.0223642172524\tAverage Loss: 0.49250673447598037\n",
      "Epoch 164:\n",
      "\tTrain: Average Accuracy: 92.53\tAverage Loss: 0.21190164641173992\n",
      "\tTest: Average Accuracy: 85.95247603833866\tAverage Loss: 0.49654808624287305\n",
      "Epoch 165:\n",
      "\tTrain: Average Accuracy: 92.56333333333333\tAverage Loss: 0.211435508645156\n",
      "\tTest: Average Accuracy: 85.79273162939297\tAverage Loss: 0.5033537067277798\n",
      "Epoch 166:\n",
      "\tTrain: Average Accuracy: 92.55\tAverage Loss: 0.21115001792404084\n",
      "\tTest: Average Accuracy: 85.6729233226837\tAverage Loss: 0.51210739012105\n",
      "Epoch 167:\n",
      "\tTrain: Average Accuracy: 92.565\tAverage Loss: 0.21086884102037973\n",
      "\tTest: Average Accuracy: 85.88258785942492\tAverage Loss: 0.5010917750891726\n",
      "Epoch 168:\n",
      "\tTrain: Average Accuracy: 92.55333333333333\tAverage Loss: 0.2105895153194963\n",
      "\tTest: Average Accuracy: 85.8626198083067\tAverage Loss: 0.49965466398053815\n",
      "Epoch 169:\n",
      "\tTrain: Average Accuracy: 92.62833333333333\tAverage Loss: 0.21013701016079048\n",
      "\tTest: Average Accuracy: 86.0223642172524\tAverage Loss: 0.4970900209281424\n",
      "Epoch 170:\n",
      "\tTrain: Average Accuracy: 92.58666666666667\tAverage Loss: 0.210058534745708\n",
      "\tTest: Average Accuracy: 85.6429712460064\tAverage Loss: 0.5127664116500419\n",
      "Epoch 171:\n",
      "\tTrain: Average Accuracy: 92.62166666666667\tAverage Loss: 0.20974674211099525\n",
      "\tTest: Average Accuracy: 85.96246006389777\tAverage Loss: 0.49653886758193266\n",
      "Epoch 172:\n",
      "\tTrain: Average Accuracy: 92.63833333333334\tAverage Loss: 0.20947295723128376\n",
      "\tTest: Average Accuracy: 85.87260383386581\tAverage Loss: 0.5008357806783281\n",
      "Epoch 173:\n",
      "\tTrain: Average Accuracy: 92.63333333333334\tAverage Loss: 0.2092744651278743\n",
      "\tTest: Average Accuracy: 85.87260383386581\tAverage Loss: 0.49986503941263466\n",
      "Epoch 174:\n",
      "\tTrain: Average Accuracy: 92.62\tAverage Loss: 0.20890168654806343\n",
      "\tTest: Average Accuracy: 85.98242811501598\tAverage Loss: 0.5002275084203585\n",
      "Epoch 175:\n",
      "\tTrain: Average Accuracy: 92.61166666666666\tAverage Loss: 0.2086445317764227\n",
      "\tTest: Average Accuracy: 85.68290734824281\tAverage Loss: 0.5092946921158525\n",
      "Epoch 176:\n",
      "\tTrain: Average Accuracy: 92.63166666666666\tAverage Loss: 0.20833145306918038\n",
      "\tTest: Average Accuracy: 85.8326677316294\tAverage Loss: 0.5048392873234289\n",
      "Epoch 177:\n",
      "\tTrain: Average Accuracy: 92.645\tAverage Loss: 0.2080500496585368\n",
      "\tTest: Average Accuracy: 85.89257188498402\tAverage Loss: 0.5055459141082749\n",
      "Epoch 178:\n",
      "\tTrain: Average Accuracy: 92.665\tAverage Loss: 0.20781063191242438\n",
      "\tTest: Average Accuracy: 85.8626198083067\tAverage Loss: 0.5070617893682734\n",
      "Epoch 179:\n",
      "\tTrain: Average Accuracy: 92.655\tAverage Loss: 0.20753394987679993\n",
      "\tTest: Average Accuracy: 85.80271565495208\tAverage Loss: 0.5119820152104405\n",
      "Epoch 180:\n",
      "\tTrain: Average Accuracy: 92.68\tAverage Loss: 0.20735649765400177\n",
      "\tTest: Average Accuracy: 85.50319488817891\tAverage Loss: 0.5303165082763188\n",
      "Epoch 181:\n",
      "\tTrain: Average Accuracy: 92.66833333333334\tAverage Loss: 0.20712908433173385\n",
      "\tTest: Average Accuracy: 86.0123801916933\tAverage Loss: 0.5060709495329622\n",
      "Epoch 182:\n",
      "\tTrain: Average Accuracy: 92.67\tAverage Loss: 0.20672078807425653\n",
      "\tTest: Average Accuracy: 85.91253993610223\tAverage Loss: 0.5114844598695819\n",
      "Epoch 183:\n",
      "\tTrain: Average Accuracy: 92.69666666666667\tAverage Loss: 0.20658608803058712\n",
      "\tTest: Average Accuracy: 85.77276357827476\tAverage Loss: 0.5126612737986497\n",
      "Epoch 184:\n",
      "\tTrain: Average Accuracy: 92.68\tAverage Loss: 0.20641430199619523\n",
      "\tTest: Average Accuracy: 85.98242811501598\tAverage Loss: 0.5091877988117928\n",
      "Epoch 185:\n",
      "\tTrain: Average Accuracy: 92.68833333333333\tAverage Loss: 0.20616843610231245\n",
      "\tTest: Average Accuracy: 85.87260383386581\tAverage Loss: 0.5145180746423437\n",
      "Epoch 186:\n",
      "\tTrain: Average Accuracy: 92.71333333333334\tAverage Loss: 0.20574712677342463\n",
      "\tTest: Average Accuracy: 85.72284345047923\tAverage Loss: 0.5174451029831653\n",
      "Epoch 187:\n",
      "\tTrain: Average Accuracy: 92.73\tAverage Loss: 0.20552476955644852\n",
      "\tTest: Average Accuracy: 86.0123801916933\tAverage Loss: 0.5102595686254023\n",
      "Epoch 188:\n",
      "\tTrain: Average Accuracy: 92.725\tAverage Loss: 0.2053079719904918\n",
      "\tTest: Average Accuracy: 85.8626198083067\tAverage Loss: 0.5157351000891891\n",
      "Epoch 189:\n",
      "\tTrain: Average Accuracy: 92.74166666666666\tAverage Loss: 0.2049644588635055\n",
      "\tTest: Average Accuracy: 85.96246006389777\tAverage Loss: 0.5140558712770348\n",
      "Epoch 190:\n",
      "\tTrain: Average Accuracy: 92.74166666666666\tAverage Loss: 0.20480405013325378\n",
      "\tTest: Average Accuracy: 85.94249201277955\tAverage Loss: 0.5146924147350598\n",
      "Epoch 191:\n",
      "\tTrain: Average Accuracy: 92.74166666666666\tAverage Loss: 0.20449304001585672\n",
      "\tTest: Average Accuracy: 85.75279552715655\tAverage Loss: 0.5223023590162863\n",
      "Epoch 192:\n",
      "\tTrain: Average Accuracy: 92.74166666666666\tAverage Loss: 0.20449998530650051\n",
      "\tTest: Average Accuracy: 85.6629392971246\tAverage Loss: 0.5280390354737425\n",
      "Epoch 193:\n",
      "\tTrain: Average Accuracy: 92.76\tAverage Loss: 0.2040383982648022\n",
      "\tTest: Average Accuracy: 85.98242811501598\tAverage Loss: 0.5154103456927435\n",
      "Epoch 194:\n",
      "\tTrain: Average Accuracy: 92.77333333333333\tAverage Loss: 0.2039051094733044\n",
      "\tTest: Average Accuracy: 85.84265175718849\tAverage Loss: 0.5184820851943015\n",
      "Epoch 195:\n",
      "\tTrain: Average Accuracy: 92.795\tAverage Loss: 0.20360814069903269\n",
      "\tTest: Average Accuracy: 85.91253993610223\tAverage Loss: 0.5202787358025858\n",
      "Epoch 196:\n",
      "\tTrain: Average Accuracy: 92.805\tAverage Loss: 0.2035029607156202\n",
      "\tTest: Average Accuracy: 85.80271565495208\tAverage Loss: 0.5240729380492094\n",
      "Epoch 197:\n",
      "\tTrain: Average Accuracy: 92.80333333333333\tAverage Loss: 0.20320998116364097\n",
      "\tTest: Average Accuracy: 85.87260383386581\tAverage Loss: 0.5240869514722711\n",
      "Epoch 198:\n",
      "\tTrain: Average Accuracy: 92.81666666666666\tAverage Loss: 0.20295316196245305\n",
      "\tTest: Average Accuracy: 85.72284345047923\tAverage Loss: 0.5316489079430605\n",
      "Epoch 199:\n",
      "\tTrain: Average Accuracy: 92.84333333333333\tAverage Loss: 0.2026873485404571\n",
      "\tTest: Average Accuracy: 85.91253993610223\tAverage Loss: 0.5218930589294014\n",
      "Epoch 200:\n",
      "\tTrain: Average Accuracy: 92.83166666666666\tAverage Loss: 0.2024786114479703\n",
      "\tTest: Average Accuracy: 85.79273162939297\tAverage Loss: 0.5224352204108\n"
     ]
    }
   ],
   "source": [
    "EPOCHS = 200\n",
    "LEARNING_RATE = 0.001\n",
    "TRAINLOADER = []\n",
    "train_loader = Dataloader(trainData, trainLabels, 10, batch_size=32, shuffle=True)\n",
    "for i in train_loader:\n",
    "    TRAINLOADER.append(i)\n",
    "TESTLOADER = []\n",
    "test_loader = Dataloader(testData, testLabels, 10, batch_size=32, shuffle=True)\n",
    "for i in test_loader:\n",
    "    TESTLOADER.append(i)\n",
    "network = FeedForwardNN(INPUT_SHAPE)\n",
    "network.add_layer(20, input_shape=INPUT_SHAPE, activation=Relu(), initial_weight='uniform')\n",
    "network.add_layer(10, activation=Identical(), initial_weight='uniform')\n",
    "network.set_training_param(loss=CrossEntropy(), lr=LEARNING_RATE)\n",
    "log = network.fit(EPOCHS, TRAINLOADER, TESTLOADER)\n",
    "\n"
   ]
  },
  {
   "cell_type": "code",
   "execution_count": 29,
   "metadata": {},
   "outputs": [
    {
     "data": {
      "image/png": "[encoded data removed]",
      "text/plain": [
       "<Figure size 360x360 with 1 Axes>"
      ]
     },
     "metadata": {
      "needs_background": "light"
     },
     "output_type": "display_data"
    },
    {
     "data": {
      "image/png": "[encoded data removed]",
      "text/plain": [
       "<Figure size 360x360 with 1 Axes>"
      ]
     },
     "metadata": {
      "needs_background": "light"
     },
     "output_type": "display_data"
    }
   ],
   "source": [
    "overfitted = log.copy()\n",
    "plt.figure(figsize=(5, 5))\n",
    "plt.plot(overfitted['train_accuracy'], label='Train', color = 'purple')\n",
    "plt.plot(overfitted['test_accuracy'], label='Test', color = 'orange')\n",
    "plt.xlabel('Epoch')\n",
    "plt.ylabel('Accuracy')\n",
    "plt.xlim(0, 200)\n",
    "plt.ylim(80,95)\n",
    "plt.legend()\n",
    "plt.show()\n",
    "plt.figure(figsize=(5, 5))\n",
    "plt.plot(overfitted['train_loss'], label='Train', color = 'purple')\n",
    "plt.plot(overfitted['test_loss'], label='Test', color = 'orange')\n",
    "plt.xlabel('Epoch')\n",
    "plt.ylabel('Loss')\n",
    "plt.xlim(0, 200)\n",
    "plt.ylim(0.1,0.6)\n",
    "plt.legend()\n",
    "plt.show()\n"
   ]
  },
  {
   "cell_type": "markdown",
   "metadata": {},
   "source": [
    "<strong> the firs graph shows the accuracy in each epoch, as we can see around epoch 75, the testData accuracy begins to fall meanwhile the trainData accuracy keeps rising meaning that it has learned the trainData so good that it wont be able to predict well on the data it hasn't seen.<br>\n",
    "the second graph shows the loss of each data which as we can see around epoch 30 the testData loss begins to rise as the loss for testData keeps falling.<br>\n",
    "it seems that it was better for the network to have stopped around 30 epochs meaning it should have stopped earlier -early stopping-</strong>"
   ]
  },
  {
   "cell_type": "markdown",
   "metadata": {},
   "source": [
    "# Reducing the dimension\n",
    "<strong> we will decrease the dimension of the data level by level and output the two dimensional data as a graph to see the test and train calculations</strong>"
   ]
  },
  {
   "cell_type": "code",
   "execution_count": 30,
   "metadata": {},
   "outputs": [
    {
     "name": "stdout",
     "output_type": "stream",
     "text": [
      "Epoch 1:\n",
      "\tTrain: Average Accuracy: 22.226666666666667\tAverage Loss: 1.980836909511675\n",
      "\tTest: Average Accuracy: 33.855830670926515\tAverage Loss: 1.6137905852731032\n",
      "Epoch 2:\n",
      "\tTrain: Average Accuracy: 44.81\tAverage Loss: 1.4035838929886784\n",
      "\tTest: Average Accuracy: 54.68250798722045\tAverage Loss: 1.199538445875247\n",
      "Epoch 3:\n",
      "\tTrain: Average Accuracy: 57.35\tAverage Loss: 1.1111784874880501\n",
      "\tTest: Average Accuracy: 64.05750798722045\tAverage Loss: 0.9690397772647197\n",
      "Epoch 4:\n",
      "\tTrain: Average Accuracy: 65.97\tAverage Loss: 0.9068483650387383\n",
      "\tTest: Average Accuracy: 69.42891373801918\tAverage Loss: 0.822319572892248\n",
      "Epoch 5:\n",
      "\tTrain: Average Accuracy: 74.655\tAverage Loss: 0.7568270444007579\n",
      "\tTest: Average Accuracy: 77.61581469648563\tAverage Loss: 0.6955781353007086\n",
      "Epoch 6:\n",
      "\tTrain: Average Accuracy: 78.87666666666667\tAverage Loss: 0.6526523154440572\n",
      "\tTest: Average Accuracy: 79.18330670926518\tAverage Loss: 0.6374757647287081\n",
      "Epoch 7:\n",
      "\tTrain: Average Accuracy: 80.55833333333334\tAverage Loss: 0.5986954517661361\n",
      "\tTest: Average Accuracy: 80.61102236421725\tAverage Loss: 0.6124872695680338\n",
      "Epoch 8:\n",
      "\tTrain: Average Accuracy: 81.80166666666666\tAverage Loss: 0.5637449999623345\n",
      "\tTest: Average Accuracy: 81.09025559105432\tAverage Loss: 0.5929895670334663\n",
      "Epoch 9:\n",
      "\tTrain: Average Accuracy: 82.72166666666666\tAverage Loss: 0.5363830571240396\n",
      "\tTest: Average Accuracy: 82.15854632587859\tAverage Loss: 0.5724345599802885\n",
      "Epoch 10:\n",
      "\tTrain: Average Accuracy: 83.43833333333333\tAverage Loss: 0.5147927676912144\n",
      "\tTest: Average Accuracy: 82.07867412140575\tAverage Loss: 0.5786686076982516\n",
      "Epoch 11:\n",
      "\tTrain: Average Accuracy: 84.01833333333333\tAverage Loss: 0.49645131079413585\n",
      "\tTest: Average Accuracy: 82.24840255591054\tAverage Loss: 0.570336570115417\n",
      "Epoch 12:\n",
      "\tTrain: Average Accuracy: 84.54333333333334\tAverage Loss: 0.4798065030517956\n",
      "\tTest: Average Accuracy: 82.65774760383387\tAverage Loss: 0.5586003215682639\n",
      "Epoch 13:\n",
      "\tTrain: Average Accuracy: 84.87\tAverage Loss: 0.46647450401505847\n",
      "\tTest: Average Accuracy: 83.11701277955271\tAverage Loss: 0.5577777943558588\n",
      "Epoch 14:\n",
      "\tTrain: Average Accuracy: 85.3\tAverage Loss: 0.455155912710036\n",
      "\tTest: Average Accuracy: 83.36661341853035\tAverage Loss: 0.553303790779175\n",
      "Epoch 15:\n",
      "\tTrain: Average Accuracy: 85.64166666666667\tAverage Loss: 0.4422793248851031\n",
      "\tTest: Average Accuracy: 83.41653354632588\tAverage Loss: 0.5632744843861703\n",
      "Epoch 16:\n",
      "\tTrain: Average Accuracy: 85.91666666666667\tAverage Loss: 0.4338498535352497\n",
      "\tTest: Average Accuracy: 84.0055910543131\tAverage Loss: 0.5394454803903397\n",
      "Epoch 17:\n",
      "\tTrain: Average Accuracy: 86.16833333333334\tAverage Loss: 0.42397857798779076\n",
      "\tTest: Average Accuracy: 83.78594249201278\tAverage Loss: 0.5570094811171856\n",
      "Epoch 18:\n",
      "\tTrain: Average Accuracy: 86.375\tAverage Loss: 0.41611673550089767\n",
      "\tTest: Average Accuracy: 83.89576677316293\tAverage Loss: 0.5566034283177168\n",
      "Epoch 19:\n",
      "\tTrain: Average Accuracy: 86.64333333333333\tAverage Loss: 0.40833213390706\n",
      "\tTest: Average Accuracy: 84.41493610223642\tAverage Loss: 0.5403731881357431\n",
      "Epoch 20:\n",
      "\tTrain: Average Accuracy: 86.70833333333333\tAverage Loss: 0.4040111710306676\n",
      "\tTest: Average Accuracy: 84.31509584664536\tAverage Loss: 0.5586063830690737\n",
      "Epoch 21:\n",
      "\tTrain: Average Accuracy: 86.95333333333333\tAverage Loss: 0.39755562215739243\n",
      "\tTest: Average Accuracy: 84.5547124600639\tAverage Loss: 0.5377076875306385\n",
      "Epoch 22:\n",
      "\tTrain: Average Accuracy: 87.12333333333333\tAverage Loss: 0.3912352872954765\n",
      "\tTest: Average Accuracy: 84.27515974440895\tAverage Loss: 0.5593548530182385\n",
      "Epoch 23:\n",
      "\tTrain: Average Accuracy: 87.36\tAverage Loss: 0.38625963950629616\n",
      "\tTest: Average Accuracy: 84.26517571884985\tAverage Loss: 0.5462603338925577\n",
      "Epoch 24:\n",
      "\tTrain: Average Accuracy: 87.55\tAverage Loss: 0.3781479215821627\n",
      "\tTest: Average Accuracy: 84.33506389776358\tAverage Loss: 0.5674015664954704\n",
      "Epoch 25:\n",
      "\tTrain: Average Accuracy: 87.56\tAverage Loss: 0.377054431135286\n",
      "\tTest: Average Accuracy: 84.49480830670926\tAverage Loss: 0.5562360326621203\n",
      "Epoch 26:\n",
      "\tTrain: Average Accuracy: 87.82166666666667\tAverage Loss: 0.369236265931326\n",
      "\tTest: Average Accuracy: 84.79432907348243\tAverage Loss: 0.5423310179417216\n",
      "Epoch 27:\n",
      "\tTrain: Average Accuracy: 87.95833333333333\tAverage Loss: 0.36554855316758694\n",
      "\tTest: Average Accuracy: 85.04392971246007\tAverage Loss: 0.5453820272933576\n",
      "Epoch 28:\n",
      "\tTrain: Average Accuracy: 88.05333333333333\tAverage Loss: 0.36126455947484576\n",
      "\tTest: Average Accuracy: 84.89416932907348\tAverage Loss: 0.5394619782219159\n",
      "Epoch 29:\n",
      "\tTrain: Average Accuracy: 88.07666666666667\tAverage Loss: 0.3585497937508628\n",
      "\tTest: Average Accuracy: 85.31349840255591\tAverage Loss: 0.5385907416680517\n",
      "Epoch 30:\n",
      "\tTrain: Average Accuracy: 88.19\tAverage Loss: 0.3553264189787133\n",
      "\tTest: Average Accuracy: 85.47324281150159\tAverage Loss: 0.5436331402991361\n"
     ]
    }
   ],
   "source": [
    "EPOCHS = 30\n",
    "LEARNING_RATE = 0.001\n",
    "TRAINLOADER = []\n",
    "INPUT_SHAPE=784\n",
    "train_loader = Dataloader(trainData, trainLabels, 10, batch_size=32, shuffle=True)\n",
    "for i in train_loader:\n",
    "    TRAINLOADER.append(i)\n",
    "TESTLOADER = []\n",
    "test_loader = Dataloader(testData, testLabels, 10, batch_size=32, shuffle=True)\n",
    "for i in test_loader:\n",
    "    TESTLOADER.append(i)\n",
    "network = FeedForwardNN(INPUT_SHAPE)\n",
    "network.add_layer(30, input_shape=INPUT_SHAPE, activation=Relu(), initial_weight='uniform')\n",
    "network.add_layer(20, activation=Relu(), initial_weight='uniform')\n",
    "network.add_layer(2, activation=Relu(), initial_weight='uniform')\n",
    "network.add_layer(10, activation=Identical(), initial_weight='uniform')\n",
    "network.set_training_param(loss=CrossEntropy(), lr=LEARNING_RATE)\n",
    "log = network.fit(EPOCHS, TRAINLOADER, TESTLOADER)\n"
   ]
  },
  {
   "cell_type": "code",
   "execution_count": 31,
   "metadata": {},
   "outputs": [],
   "source": [
    "train_list = network.get_train_list()\n",
    "test_list = network.get_test_list()"
   ]
  },
  {
   "cell_type": "code",
   "execution_count": 32,
   "metadata": {},
   "outputs": [],
   "source": [
    "unique, counts = np.unique(trainLabels, return_counts=True)\n",
    "train_dict = dict(zip(unique, counts))\n",
    "unique, counts = np.unique(testLabels, return_counts=True)\n",
    "test_dict = dict(zip(unique, counts))"
   ]
  },
  {
   "cell_type": "code",
   "execution_count": 33,
   "metadata": {},
   "outputs": [
    {
     "data": {
      "image/png": "[encoded data removed]",
      "text/plain": [
       "<Figure size 720x720 with 1 Axes>"
      ]
     },
     "metadata": {
      "needs_background": "light"
     },
     "output_type": "display_data"
    }
   ],
   "source": [
    "colors = sns.color_palette(\"husl\", 10)\n",
    "plt.figure(figsize=(10, 10))\n",
    "for batch in train_list[:-1]:\n",
    "    x = np.array(batch[1][:, 0]).reshape(-1)\n",
    "    y = np.array(batch[1][:, 1]).reshape(-1)\n",
    "    labels = np.array(batch[0].argmax(1)).reshape(-1)\n",
    "    clr = [colors[labels[i]] for i in range(32)]\n",
    "    plt.scatter(x,y, color=clr)\n",
    "plt.show()"
   ]
  },
  {
   "cell_type": "code",
   "execution_count": 34,
   "metadata": {},
   "outputs": [
    {
     "data": {
      "image/png": "[encoded data removed]",
      "text/plain": [
       "<Figure size 720x720 with 1 Axes>"
      ]
     },
     "metadata": {
      "needs_background": "light"
     },
     "output_type": "display_data"
    }
   ],
   "source": [
    "plt.figure(figsize=(10, 10))\n",
    "for batch in test_list[:-1]:\n",
    "    x = np.array(batch[1][:, 0]).reshape(-1)\n",
    "    y = np.array(batch[1][:, 1]).reshape(-1)\n",
    "    labels = np.array(batch[0].argmax(1)).reshape(-1)\n",
    "    clr = [colors[labels[i]] for i in range(32)]\n",
    "    plt.scatter(x,y, color=clr)\n",
    "plt.show()"
   ]
  },
  {
   "cell_type": "code",
   "execution_count": 35,
   "metadata": {
    "scrolled": false
   },
   "outputs": [
    {
     "data": {
      "image/png": "[encoded data removed]",
      "text/plain": [
       "<Figure size 432x288 with 1 Axes>"
      ]
     },
     "metadata": {
      "needs_background": "light"
     },
     "output_type": "display_data"
    },
    {
     "data": {
      "image/png": "[encoded data removed]",
      "text/plain": [
       "<Figure size 432x288 with 1 Axes>"
      ]
     },
     "metadata": {
      "needs_background": "light"
     },
     "output_type": "display_data"
    },
    {
     "data": {
      "image/png": "[encoded data removed]",
      "text/plain": [
       "<Figure size 432x288 with 1 Axes>"
      ]
     },
     "metadata": {
      "needs_background": "light"
     },
     "output_type": "display_data"
    },
    {
     "data": {
      "image/png": "[encoded data removed]",
      "text/plain": [
       "<Figure size 432x288 with 1 Axes>"
      ]
     },
     "metadata": {
      "needs_background": "light"
     },
     "output_type": "display_data"
    },
    {
     "data": {
      "image/png": "[encoded data removed]",
      "text/plain": [
       "<Figure size 432x288 with 1 Axes>"
      ]
     },
     "metadata": {
      "needs_background": "light"
     },
     "output_type": "display_data"
    },
    {
     "data": {
      "image/png": "[encoded data removed]",
      "text/plain": [
       "<Figure size 432x288 with 1 Axes>"
      ]
     },
     "metadata": {
      "needs_background": "light"
     },
     "output_type": "display_data"
    },
    {
     "data": {
      "image/png": "[encoded data removed]",
      "text/plain": [
       "<Figure size 432x288 with 1 Axes>"
      ]
     },
     "metadata": {
      "needs_background": "light"
     },
     "output_type": "display_data"
    },
    {
     "data": {
      "image/png": "[encoded data removed]",
      "text/plain": [
       "<Figure size 432x288 with 1 Axes>"
      ]
     },
     "metadata": {
      "needs_background": "light"
     },
     "output_type": "display_data"
    },
    {
     "data": {
      "image/png": "[encoded data removed]",
      "text/plain": [
       "<Figure size 432x288 with 1 Axes>"
      ]
     },
     "metadata": {
      "needs_background": "light"
     },
     "output_type": "display_data"
    },
    {
     "data": {
      "image/png": "[encoded data removed]",
      "text/plain": [
       "<Figure size 432x288 with 1 Axes>"
      ]
     },
     "metadata": {
      "needs_background": "light"
     },
     "output_type": "display_data"
    }
   ],
   "source": [
    "c = 0\n",
    "for j in colors:\n",
    "    plt.bar([10 for i in range(10)], [10 for i in range(10)], color = j)\n",
    "    plt.title(\"class\" + str(c))\n",
    "    c += 1\n",
    "    plt.show()"
   ]
  },
  {
   "cell_type": "markdown",
   "metadata": {},
   "source": [
    "<strong> by the colors shown above:<br>\n",
    "we understand that the network predicts classes 0, 1, 2, 3, 8 almost without any problems and perfectly.<br>\n",
    "it predicts classes 4, 7, 9 with less accuracy but almost close.<br>\n",
    "and at last it predicts classes 5, 6 generally good but has more errors than the other classes predicted.</strong>"
   ]
  }
 ],
 "metadata": {
  "kernelspec": {
   "display_name": "Python 3",
   "language": "python",
   "name": "python3"
  },
  "language_info": {
   "codemirror_mode": {
    "name": "ipython",
    "version": 3
   },
   "file_extension": ".py",
   "mimetype": "text/x-python",
   "name": "python",
   "nbconvert_exporter": "python",
   "pygments_lexer": "ipython3",
   "version": "3.8.6"
  }
 },
 "nbformat": 4,
 "nbformat_minor": 4
}
